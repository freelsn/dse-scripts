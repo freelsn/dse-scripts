{
 "cells": [
  {
   "cell_type": "code",
   "execution_count": 119,
   "metadata": {
    "collapsed": true
   },
   "outputs": [],
   "source": [
    "class class_1:\n",
    "    def __init__(self):\n",
    "        self.class_1 = 1\n",
    "        super().__init__()\n",
    "    def aa(self):\n",
    "        return self"
   ]
  },
  {
   "cell_type": "code",
   "execution_count": 120,
   "metadata": {
    "collapsed": true
   },
   "outputs": [],
   "source": [
    "c1 = class_1()"
   ]
  },
  {
   "cell_type": "code",
   "execution_count": 121,
   "metadata": {},
   "outputs": [
    {
     "data": {
      "text/plain": [
       "<__main__.class_1 at 0xc1c76d42b0>"
      ]
     },
     "execution_count": 121,
     "metadata": {},
     "output_type": "execute_result"
    }
   ],
   "source": [
    "c1.aa()"
   ]
  },
  {
   "cell_type": "code",
   "execution_count": 5,
   "metadata": {
    "collapsed": true
   },
   "outputs": [],
   "source": [
    "class class_2:\n",
    "    def __init__(self):\n",
    "        self.class_2 = 1"
   ]
  },
  {
   "cell_type": "code",
   "execution_count": 45,
   "metadata": {
    "collapsed": true
   },
   "outputs": [],
   "source": [
    "class class_3:\n",
    "    def __init__(self):\n",
    "        self.class_3 = 1\n",
    "        super().__init__()"
   ]
  },
  {
   "cell_type": "code",
   "execution_count": 28,
   "metadata": {
    "collapsed": true
   },
   "outputs": [],
   "source": [
    "class class_1_1(class_1):\n",
    "    def __init__(self):\n",
    "        self.class_1_1 = 1\n",
    "        super().__init__()"
   ]
  },
  {
   "cell_type": "code",
   "execution_count": 8,
   "metadata": {
    "collapsed": true
   },
   "outputs": [],
   "source": [
    "class class_1_2(class_1):\n",
    "    def __init__(self):\n",
    "        self.class_1_2 = 1"
   ]
  },
  {
   "cell_type": "code",
   "execution_count": 85,
   "metadata": {
    "collapsed": true
   },
   "outputs": [],
   "source": [
    "class class_1_3(class_1, class_3):\n",
    "    def __init__(self):\n",
    "        self.class_1_3 = 1\n",
    "        super().__init__()"
   ]
  },
  {
   "cell_type": "code",
   "execution_count": 9,
   "metadata": {
    "collapsed": true
   },
   "outputs": [],
   "source": [
    "class class_2_1(class_2):\n",
    "    def __init__(self):\n",
    "        self.class_2_1 = 1"
   ]
  },
  {
   "cell_type": "code",
   "execution_count": 10,
   "metadata": {
    "collapsed": true
   },
   "outputs": [],
   "source": [
    "class class_2_2(class_2):\n",
    "    def __init__(self):\n",
    "        self.class_2_2 = 1"
   ]
  },
  {
   "cell_type": "code",
   "execution_count": 39,
   "metadata": {
    "collapsed": true
   },
   "outputs": [],
   "source": [
    "class class_3_1(class_3):\n",
    "    def __init__(self):\n",
    "        self.class_3_1 = 1\n",
    "        super().__init__()"
   ]
  },
  {
   "cell_type": "code",
   "execution_count": 12,
   "metadata": {
    "collapsed": true
   },
   "outputs": [],
   "source": [
    "class class_3_2(class_3):\n",
    "    def __init__(self):\n",
    "        self.class_3_2 = 1"
   ]
  },
  {
   "cell_type": "code",
   "execution_count": 70,
   "metadata": {
    "collapsed": true
   },
   "outputs": [],
   "source": [
    "class class_3_1_1(class_3_1):\n",
    "    def __init__(self):\n",
    "        self.class_3_1_1 = 1\n",
    "        super().__init__()"
   ]
  },
  {
   "cell_type": "code",
   "execution_count": 91,
   "metadata": {
    "collapsed": true
   },
   "outputs": [],
   "source": [
    "class my_class(class_3_1_1, class_1_1, class_2_2, ):\n",
    "    def __init__(self):\n",
    "        super().__init__()\n",
    "        class_1_1.__init__(self)\n",
    "        pass"
   ]
  },
  {
   "cell_type": "code",
   "execution_count": 92,
   "metadata": {
    "collapsed": true
   },
   "outputs": [],
   "source": [
    "mc = my_class()\n",
    "mc_1_3 = class_1_3()"
   ]
  },
  {
   "cell_type": "code",
   "execution_count": 93,
   "metadata": {},
   "outputs": [
    {
     "data": {
      "text/plain": [
       "{'class_1': 1, 'class_1_1': 1, 'class_3': 1, 'class_3_1': 1, 'class_3_1_1': 1}"
      ]
     },
     "execution_count": 93,
     "metadata": {},
     "output_type": "execute_result"
    }
   ],
   "source": [
    "mc.__dict__"
   ]
  },
  {
   "cell_type": "code",
   "execution_count": 82,
   "metadata": {},
   "outputs": [
    {
     "data": {
      "text/plain": [
       "(__main__.my_class,\n",
       " __main__.class_3_1_1,\n",
       " __main__.class_3_1,\n",
       " __main__.class_3,\n",
       " __main__.class_1_1,\n",
       " __main__.class_1,\n",
       " __main__.class_2_2,\n",
       " __main__.class_2,\n",
       " object)"
      ]
     },
     "execution_count": 82,
     "metadata": {},
     "output_type": "execute_result"
    }
   ],
   "source": [
    "my_class.__mro__"
   ]
  }
 ],
 "metadata": {
  "kernelspec": {
   "display_name": "Python 3",
   "language": "python",
   "name": "python3"
  },
  "language_info": {
   "codemirror_mode": {
    "name": "ipython",
    "version": 3
   },
   "file_extension": ".py",
   "mimetype": "text/x-python",
   "name": "python",
   "nbconvert_exporter": "python",
   "pygments_lexer": "ipython3",
   "version": "3.6.1"
  }
 },
 "nbformat": 4,
 "nbformat_minor": 2
}
