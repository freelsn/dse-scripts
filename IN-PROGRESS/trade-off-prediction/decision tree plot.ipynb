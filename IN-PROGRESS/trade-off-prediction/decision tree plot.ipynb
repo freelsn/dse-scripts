{
 "cells": [
  {
   "cell_type": "code",
   "execution_count": 1,
   "metadata": {
    "ExecuteTime": {
     "end_time": "2018-03-13T21:55:59.093798Z",
     "start_time": "2018-03-13T21:55:34.140072Z"
    }
   },
   "outputs": [
    {
     "name": "stdout",
     "output_type": "stream",
     "text": [
      "Python version: 3.6.1 |Anaconda 4.4.0 (64-bit)| (default, May 11 2017, 13:25:24) [MSC v.1900 64 bit (AMD64)]\n",
      "pandas version: 0.20.1\n",
      "matplotlib version: 2.0.2\n",
      "NumPy version: 1.14.1\n",
      "SciPy version: 1.0.0\n",
      "IPython version: 5.3.0\n",
      "scikit-learn version: 0.19.1\n",
      "-------------------------\n"
     ]
    }
   ],
   "source": [
    "%run header.py data/ASIC-2-FPGA"
   ]
  },
  {
   "cell_type": "code",
   "execution_count": 2,
   "metadata": {
    "ExecuteTime": {
     "end_time": "2018-03-13T21:55:59.224128Z",
     "start_time": "2018-03-13T21:55:59.104713Z"
    },
    "collapsed": true
   },
   "outputs": [],
   "source": [
    "df_scaled_dict = dict()\n",
    "for benchmark in benchmarks:\n",
    "    df_scaled = df_dict[benchmark].copy()\n",
    "    df_scaled[valid_features] = StandardScaler().fit_transform(df_dict[benchmark][valid_features])\n",
    "    df_scaled_dict[benchmark] = df_scaled"
   ]
  },
  {
   "cell_type": "code",
   "execution_count": 16,
   "metadata": {
    "ExecuteTime": {
     "end_time": "2018-03-13T22:04:50.831155Z",
     "start_time": "2018-03-13T22:04:50.828147Z"
    },
    "collapsed": true
   },
   "outputs": [],
   "source": [
    "# estimator = ensemble.RandomForestRegressor(random_state=42)\n",
    "estimator = tree.DecisionTreeRegressor(random_state=42)"
   ]
  },
  {
   "cell_type": "code",
   "execution_count": 6,
   "metadata": {
    "ExecuteTime": {
     "end_time": "2018-03-13T21:59:12.064666Z",
     "start_time": "2018-03-13T21:59:12.059651Z"
    },
    "collapsed": true
   },
   "outputs": [],
   "source": [
    "df_scaled = df_scaled_dict['adpcm_encoder'].copy()\n",
    "X = df_scaled[valid_features]\n",
    "y = df_scaled.AREA"
   ]
  },
  {
   "cell_type": "code",
   "execution_count": 17,
   "metadata": {
    "ExecuteTime": {
     "end_time": "2018-03-13T22:04:52.977754Z",
     "start_time": "2018-03-13T22:04:52.972769Z"
    }
   },
   "outputs": [
    {
     "data": {
      "text/plain": [
       "DecisionTreeRegressor(criterion='mse', max_depth=None, max_features=None,\n",
       "           max_leaf_nodes=None, min_impurity_decrease=0.0,\n",
       "           min_impurity_split=None, min_samples_leaf=1,\n",
       "           min_samples_split=2, min_weight_fraction_leaf=0.0,\n",
       "           presort=False, random_state=42, splitter='best')"
      ]
     },
     "execution_count": 17,
     "metadata": {},
     "output_type": "execute_result"
    }
   ],
   "source": [
    "estimator.fit(X, y)"
   ]
  },
  {
   "cell_type": "code",
   "execution_count": 20,
   "metadata": {
    "ExecuteTime": {
     "end_time": "2018-03-13T22:05:52.530510Z",
     "start_time": "2018-03-13T22:05:52.328487Z"
    }
   },
   "outputs": [
    {
     "data": {
      "text/plain": [
       "'adpcm_endocer.pdf'"
      ]
     },
     "execution_count": 20,
     "metadata": {},
     "output_type": "execute_result"
    }
   ],
   "source": [
    "dot_data = tree.export_graphviz(estimator, out_file=None,\n",
    "                                feature_names=X.columns, filled=True,\n",
    "                                rounded=True, special_characters=True)\n",
    "graph = graphviz.Source(dot_data)\n",
    "graph.render('adpcm_endocer')"
   ]
  }
 ],
 "metadata": {
  "hide_input": false,
  "kernelspec": {
   "display_name": "Python 3",
   "language": "python",
   "name": "python3"
  },
  "language_info": {
   "codemirror_mode": {
    "name": "ipython",
    "version": 3
   },
   "file_extension": ".py",
   "mimetype": "text/x-python",
   "name": "python",
   "nbconvert_exporter": "python",
   "pygments_lexer": "ipython3",
   "version": "3.6.1"
  },
  "toc": {
   "nav_menu": {},
   "number_sections": true,
   "sideBar": true,
   "skip_h1_title": false,
   "title_cell": "Table of Contents",
   "title_sidebar": "Contents",
   "toc_cell": false,
   "toc_position": {},
   "toc_section_display": true,
   "toc_window_display": false
  }
 },
 "nbformat": 4,
 "nbformat_minor": 2
}
