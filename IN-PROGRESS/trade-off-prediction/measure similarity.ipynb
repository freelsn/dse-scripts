{
 "cells": [
  {
   "cell_type": "code",
   "execution_count": 5,
   "metadata": {
    "ExecuteTime": {
     "end_time": "2018-03-10T18:28:50.955427Z",
     "start_time": "2018-03-10T18:28:44.903772Z"
    }
   },
   "outputs": [
    {
     "name": "stdout",
     "output_type": "stream",
     "text": [
      "Python version: 3.6.1 |Anaconda 4.4.0 (64-bit)| (default, May 11 2017, 13:25:24) [MSC v.1900 64 bit (AMD64)]\n",
      "pandas version: 0.20.1\n",
      "matplotlib version: 2.0.2\n",
      "NumPy version: 1.14.1\n",
      "SciPy version: 1.0.0\n",
      "IPython version: 5.3.0\n",
      "scikit-learn version: 0.19.1\n",
      "-------------------------\n"
     ]
    }
   ],
   "source": [
    "%run header.py data/ASIC-2-FPGA"
   ]
  },
  {
   "cell_type": "code",
   "execution_count": 6,
   "metadata": {
    "ExecuteTime": {
     "end_time": "2018-03-10T18:28:52.480694Z",
     "start_time": "2018-03-10T18:28:51.960126Z"
    },
    "collapsed": true
   },
   "outputs": [],
   "source": [
    "# Load exhaustive training results\n",
    "es_v4_lr = pd.read_csv('es_v4_lr.csv')\n",
    "es_v4_ada = pd.read_csv('es_v4_ada.csv')\n",
    "es_v4_rf = pd.read_csv('es_v4_rf.csv')\n",
    "\n",
    "# direct mapping\n",
    "dm_v4 = pd.read_csv('direct_mapping_v4.csv')\n",
    "dm_v5 = pd.read_csv('direct_mapping_v5.csv')\n",
    "\n",
    "# direct mapping with tolerance\n",
    "dm_v4_01 = pd.read_csv('direct_mapping_v4_tolerance_0.1.csv')\n",
    "dm_v5_01 = pd.read_csv('direct_mapping_v5_tolerance_0.1.csv')\n",
    "dm_v4_005 = pd.read_csv('direct_mapping_v4_tolerance_0.05.csv')\n",
    "dm_v5_005 = pd.read_csv('direct_mapping_v5_tolerance_0.05.csv')"
   ]
  },
  {
   "cell_type": "code",
   "execution_count": 7,
   "metadata": {
    "ExecuteTime": {
     "end_time": "2018-03-10T18:28:53.323976Z",
     "start_time": "2018-03-10T18:28:53.319965Z"
    },
    "collapsed": true
   },
   "outputs": [],
   "source": [
    "benchmark = 'average'\n",
    "df = gd.data_v4[benchmark].drop(['index'], axis=1)"
   ]
  },
  {
   "cell_type": "code",
   "execution_count": 9,
   "metadata": {
    "ExecuteTime": {
     "end_time": "2018-03-10T18:31:22.188046Z",
     "start_time": "2018-03-10T18:31:22.185038Z"
    },
    "collapsed": true
   },
   "outputs": [],
   "source": [
    "predictors = ['AREA', 'state', 'FU', 'REG', 'MUX', 'DEC', 'pin_pair', 'net', 'max', 'min', 'ave', 'MISC']"
   ]
  },
  {
   "cell_type": "code",
   "execution_count": 11,
   "metadata": {
    "ExecuteTime": {
     "end_time": "2018-03-10T18:34:55.662606Z",
     "start_time": "2018-03-10T18:34:55.658595Z"
    }
   },
   "outputs": [],
   "source": [
    "X = df[predictors]\n",
    "y = df.Slices"
   ]
  },
  {
   "cell_type": "code",
   "execution_count": 19,
   "metadata": {
    "ExecuteTime": {
     "end_time": "2018-03-10T18:41:10.552277Z",
     "start_time": "2018-03-10T18:41:10.548266Z"
    }
   },
   "outputs": [],
   "source": [
    "X_divided = (X.T / X.state).T"
   ]
  },
  {
   "cell_type": "code",
   "execution_count": 20,
   "metadata": {
    "ExecuteTime": {
     "end_time": "2018-03-10T18:42:02.319687Z",
     "start_time": "2018-03-10T18:42:02.315674Z"
    },
    "collapsed": true
   },
   "outputs": [],
   "source": [
    "y_divided = (y.T / X.state).T"
   ]
  },
  {
   "cell_type": "code",
   "execution_count": 23,
   "metadata": {
    "ExecuteTime": {
     "end_time": "2018-03-10T18:43:55.535874Z",
     "start_time": "2018-03-10T18:43:55.532866Z"
    },
    "collapsed": true
   },
   "outputs": [],
   "source": [
    "estimator = linear_model.LinearRegression(normalize=True)"
   ]
  },
  {
   "cell_type": "code",
   "execution_count": 25,
   "metadata": {
    "ExecuteTime": {
     "end_time": "2018-03-10T18:44:26.292125Z",
     "start_time": "2018-03-10T18:44:26.285107Z"
    }
   },
   "outputs": [
    {
     "data": {
      "text/plain": [
       "array([ 0.2897, 16.5986,  0.112 , -0.2524,  0.9963, -2.7691, -0.4246,\n",
       "        0.5379, -5.882 , -5.882 , -5.882 ,  1.9047])"
      ]
     },
     "execution_count": 25,
     "metadata": {},
     "output_type": "execute_result"
    }
   ],
   "source": [
    "estimator.fit(X, y)\n",
    "estimator.coef_"
   ]
  },
  {
   "cell_type": "code",
   "execution_count": 26,
   "metadata": {
    "ExecuteTime": {
     "end_time": "2018-03-10T18:44:39.363229Z",
     "start_time": "2018-03-10T18:44:39.357212Z"
    }
   },
   "outputs": [
    {
     "data": {
      "text/plain": [
       "array([ 0.1806,  0.    ,  0.426 , -0.035 ,  0.849 , -2.9324, -0.117 ,\n",
       "       -0.187 ,  0.3553,  0.3553,  0.3553,  1.5439])"
      ]
     },
     "execution_count": 26,
     "metadata": {},
     "output_type": "execute_result"
    }
   ],
   "source": [
    "estimator.fit(X_divided, y_divided)\n",
    "estimator.coef_"
   ]
  }
 ],
 "metadata": {
  "hide_input": false,
  "kernelspec": {
   "display_name": "Python 3",
   "language": "python",
   "name": "python3"
  },
  "language_info": {
   "codemirror_mode": {
    "name": "ipython",
    "version": 3
   },
   "file_extension": ".py",
   "mimetype": "text/x-python",
   "name": "python",
   "nbconvert_exporter": "python",
   "pygments_lexer": "ipython3",
   "version": "3.6.1"
  },
  "toc": {
   "nav_menu": {},
   "number_sections": true,
   "sideBar": true,
   "skip_h1_title": false,
   "title_cell": "Table of Contents",
   "title_sidebar": "Contents",
   "toc_cell": false,
   "toc_position": {},
   "toc_section_display": true,
   "toc_window_display": false
  }
 },
 "nbformat": 4,
 "nbformat_minor": 2
}
