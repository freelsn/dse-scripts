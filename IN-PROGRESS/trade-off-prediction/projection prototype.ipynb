{
 "cells": [
  {
   "cell_type": "code",
   "execution_count": 78,
   "metadata": {
    "ExecuteTime": {
     "end_time": "2018-03-12T20:00:50.142896Z",
     "start_time": "2018-03-12T20:00:44.011516Z"
    },
    "scrolled": true
   },
   "outputs": [
    {
     "name": "stdout",
     "output_type": "stream",
     "text": [
      "Python version: 3.6.1 |Anaconda 4.4.0 (64-bit)| (default, May 11 2017, 13:25:24) [MSC v.1900 64 bit (AMD64)]\n",
      "pandas version: 0.20.1\n",
      "matplotlib version: 2.0.2\n",
      "NumPy version: 1.14.1\n",
      "SciPy version: 1.0.0\n",
      "IPython version: 5.3.0\n",
      "scikit-learn version: 0.19.1\n",
      "-------------------------\n"
     ]
    }
   ],
   "source": [
    "%run header.py data/ASIC-2-FPGA"
   ]
  },
  {
   "cell_type": "code",
   "execution_count": 79,
   "metadata": {
    "ExecuteTime": {
     "end_time": "2018-03-12T20:02:08.256315Z",
     "start_time": "2018-03-12T20:02:08.218215Z"
    }
   },
   "outputs": [
    {
     "data": {
      "text/html": [
       "<div>\n",
       "<style>\n",
       "    .dataframe thead tr:only-child th {\n",
       "        text-align: right;\n",
       "    }\n",
       "\n",
       "    .dataframe thead th {\n",
       "        text-align: left;\n",
       "    }\n",
       "\n",
       "    .dataframe tbody tr th {\n",
       "        vertical-align: top;\n",
       "    }\n",
       "</style>\n",
       "<table border=\"1\" class=\"dataframe\">\n",
       "  <thead>\n",
       "    <tr style=\"text-align: right;\">\n",
       "      <th></th>\n",
       "      <th>AREA</th>\n",
       "      <th>state</th>\n",
       "      <th>FU</th>\n",
       "      <th>REG</th>\n",
       "      <th>MUX</th>\n",
       "      <th>DEC</th>\n",
       "      <th>pin_pair</th>\n",
       "      <th>net</th>\n",
       "      <th>max</th>\n",
       "      <th>min</th>\n",
       "      <th>ave</th>\n",
       "      <th>MISC</th>\n",
       "      <th>MEM</th>\n",
       "      <th>sim</th>\n",
       "      <th>Pmax</th>\n",
       "      <th>Pmin</th>\n",
       "      <th>Pave</th>\n",
       "      <th>Latency</th>\n",
       "      <th>BlockMemoryBit</th>\n",
       "      <th>DSP</th>\n",
       "      <th>Slices</th>\n",
       "    </tr>\n",
       "  </thead>\n",
       "  <tbody>\n",
       "    <tr>\n",
       "      <th>0</th>\n",
       "      <td>1846</td>\n",
       "      <td>4</td>\n",
       "      <td>977</td>\n",
       "      <td>636</td>\n",
       "      <td>203</td>\n",
       "      <td>0</td>\n",
       "      <td>3246</td>\n",
       "      <td>1505</td>\n",
       "      <td>4</td>\n",
       "      <td>4</td>\n",
       "      <td>4.0</td>\n",
       "      <td>30</td>\n",
       "      <td>0</td>\n",
       "      <td>0</td>\n",
       "      <td>0</td>\n",
       "      <td>0</td>\n",
       "      <td>0</td>\n",
       "      <td>21</td>\n",
       "      <td>0</td>\n",
       "      <td>0</td>\n",
       "      <td>394</td>\n",
       "    </tr>\n",
       "    <tr>\n",
       "      <th>1</th>\n",
       "      <td>1574</td>\n",
       "      <td>4</td>\n",
       "      <td>670</td>\n",
       "      <td>636</td>\n",
       "      <td>238</td>\n",
       "      <td>0</td>\n",
       "      <td>2935</td>\n",
       "      <td>1337</td>\n",
       "      <td>4</td>\n",
       "      <td>4</td>\n",
       "      <td>4.0</td>\n",
       "      <td>30</td>\n",
       "      <td>0</td>\n",
       "      <td>0</td>\n",
       "      <td>0</td>\n",
       "      <td>0</td>\n",
       "      <td>0</td>\n",
       "      <td>21</td>\n",
       "      <td>0</td>\n",
       "      <td>0</td>\n",
       "      <td>356</td>\n",
       "    </tr>\n",
       "  </tbody>\n",
       "</table>\n",
       "</div>"
      ],
      "text/plain": [
       "   AREA  state   FU  REG  MUX  DEC  pin_pair   net  max  min  ave  MISC  MEM  \\\n",
       "0  1846      4  977  636  203    0      3246  1505    4    4  4.0    30    0   \n",
       "1  1574      4  670  636  238    0      2935  1337    4    4  4.0    30    0   \n",
       "\n",
       "   sim  Pmax  Pmin  Pave  Latency  BlockMemoryBit  DSP  Slices  \n",
       "0    0     0     0     0       21               0    0     394  \n",
       "1    0     0     0     0       21               0    0     356  "
      ]
     },
     "metadata": {},
     "output_type": "display_data"
    },
    {
     "data": {
      "text/html": [
       "<div>\n",
       "<style>\n",
       "    .dataframe thead tr:only-child th {\n",
       "        text-align: right;\n",
       "    }\n",
       "\n",
       "    .dataframe thead th {\n",
       "        text-align: left;\n",
       "    }\n",
       "\n",
       "    .dataframe tbody tr th {\n",
       "        vertical-align: top;\n",
       "    }\n",
       "</style>\n",
       "<table border=\"1\" class=\"dataframe\">\n",
       "  <thead>\n",
       "    <tr style=\"text-align: right;\">\n",
       "      <th></th>\n",
       "      <th>AREA</th>\n",
       "      <th>state</th>\n",
       "      <th>FU</th>\n",
       "      <th>REG</th>\n",
       "      <th>MUX</th>\n",
       "      <th>DEC</th>\n",
       "      <th>pin_pair</th>\n",
       "      <th>net</th>\n",
       "      <th>max</th>\n",
       "      <th>min</th>\n",
       "      <th>ave</th>\n",
       "      <th>MISC</th>\n",
       "      <th>MEM</th>\n",
       "      <th>sim</th>\n",
       "      <th>Pmax</th>\n",
       "      <th>Pmin</th>\n",
       "      <th>Pave</th>\n",
       "      <th>BlockMemoryBit</th>\n",
       "      <th>DSP</th>\n",
       "    </tr>\n",
       "  </thead>\n",
       "  <tbody>\n",
       "    <tr>\n",
       "      <th>0</th>\n",
       "      <td>1846</td>\n",
       "      <td>4</td>\n",
       "      <td>977</td>\n",
       "      <td>636</td>\n",
       "      <td>203</td>\n",
       "      <td>0</td>\n",
       "      <td>3246</td>\n",
       "      <td>1505</td>\n",
       "      <td>4</td>\n",
       "      <td>4</td>\n",
       "      <td>4.0</td>\n",
       "      <td>30</td>\n",
       "      <td>0</td>\n",
       "      <td>0</td>\n",
       "      <td>0</td>\n",
       "      <td>0</td>\n",
       "      <td>0</td>\n",
       "      <td>0</td>\n",
       "      <td>0</td>\n",
       "    </tr>\n",
       "    <tr>\n",
       "      <th>1</th>\n",
       "      <td>1574</td>\n",
       "      <td>4</td>\n",
       "      <td>670</td>\n",
       "      <td>636</td>\n",
       "      <td>238</td>\n",
       "      <td>0</td>\n",
       "      <td>2935</td>\n",
       "      <td>1337</td>\n",
       "      <td>4</td>\n",
       "      <td>4</td>\n",
       "      <td>4.0</td>\n",
       "      <td>30</td>\n",
       "      <td>0</td>\n",
       "      <td>0</td>\n",
       "      <td>0</td>\n",
       "      <td>0</td>\n",
       "      <td>0</td>\n",
       "      <td>0</td>\n",
       "      <td>0</td>\n",
       "    </tr>\n",
       "  </tbody>\n",
       "</table>\n",
       "</div>"
      ],
      "text/plain": [
       "   AREA  state   FU  REG  MUX  DEC  pin_pair   net  max  min  ave  MISC  MEM  \\\n",
       "0  1846      4  977  636  203    0      3246  1505    4    4  4.0    30    0   \n",
       "1  1574      4  670  636  238    0      2935  1337    4    4  4.0    30    0   \n",
       "\n",
       "   sim  Pmax  Pmin  Pave  BlockMemoryBit  DSP  \n",
       "0    0     0     0     0               0    0  \n",
       "1    0     0     0     0               0    0  "
      ]
     },
     "metadata": {},
     "output_type": "display_data"
    },
    {
     "data": {
      "text/plain": [
       "0    394\n",
       "1    356\n",
       "Name: Slices, dtype: int64"
      ]
     },
     "metadata": {},
     "output_type": "display_data"
    }
   ],
   "source": [
    "df = ML.fix_missing_data(gd.data_v4['adpcm_encoder'].drop(['index'], axis=1)[features])\n",
    "X = df[valid_features].copy()\n",
    "y = df.Slices.copy()\n",
    "display(df.head(2))\n",
    "display(X.head(2))\n",
    "display(y.head(2))"
   ]
  },
  {
   "cell_type": "code",
   "execution_count": 139,
   "metadata": {
    "ExecuteTime": {
     "end_time": "2018-03-12T23:50:52.152568Z",
     "start_time": "2018-03-12T23:50:51.974820Z"
    }
   },
   "outputs": [
    {
     "data": {
      "image/png": "[encoded data removed]",
      "text/plain": [
       "<matplotlib.figure.Figure at 0xaf6174ecf8>"
      ]
     },
     "metadata": {},
     "output_type": "display_data"
    }
   ],
   "source": [
    "fig, axes = plt.subplots(nrows=1, ncols=1)\n",
    "df_labeled.plot(kind='scatter', x='Latency', y='AREA', ax=axes)\n",
    "df_labeled[df_labeled.PF_ASIC].plot(kind='scatter', x='Latency', y='AREA', c='r', s=50, ax=axes)\n",
    "df_labeled[df_labeled.PF_FPGA].plot(kind='scatter', x='Latency', y='AREA', c='y', ax=axes)\n",
    "plt.show()"
   ]
  },
  {
   "cell_type": "markdown",
   "metadata": {},
   "source": [
    "# PCA\n",
    "\n",
    "<https://jakevdp.github.io/PythonDataScienceHandbook/05.09-principal-component-analysis.html>"
   ]
  },
  {
   "cell_type": "code",
   "execution_count": 15,
   "metadata": {
    "ExecuteTime": {
     "end_time": "2018-03-12T19:13:54.017089Z",
     "start_time": "2018-03-12T19:13:54.010070Z"
    }
   },
   "outputs": [
    {
     "name": "stdout",
     "output_type": "stream",
     "text": [
      "original shape: (206, 2)\n",
      "trainsformed shape: (206, 1)\n"
     ]
    }
   ],
   "source": [
    "pf_fpga = df[['Latency', 'Slices']].as_matrix()\n",
    "pca = decomposition.PCA(n_components=1)\n",
    "pca.fit(pf_fpga)\n",
    "X_pca = pca.transform(pf_fpga)\n",
    "print('original shape: {}'.format(pf_fpga.shape))\n",
    "print('trainsformed shape: {}'.format(X_pca.shape))\n",
    "\n",
    "X_new = pca.inverse_transform(X_pca)\n",
    "\n",
    "plt.scatter(pf_fpga[:, 0], pf_fpga[:, 1], alpha=0.2)\n",
    "plt.scatter(X_new[:, 0], X_new[:, 1])\n",
    "plt.show()"
   ]
  },
  {
   "cell_type": "markdown",
   "metadata": {},
   "source": [
    "# Orthogonal projection\n",
    "\n",
    "<https://en.wikibooks.org/wiki/Linear_Algebra/Orthogonal_Projection_Onto_a_Line>"
   ]
  },
  {
   "cell_type": "code",
   "execution_count": 99,
   "metadata": {
    "ExecuteTime": {
     "end_time": "2018-03-12T20:15:18.795619Z",
     "start_time": "2018-03-12T20:15:18.786595Z"
    },
    "collapsed": true
   },
   "outputs": [],
   "source": [
    "def orthogonal_projection(v, line):\n",
    "    line_unit = preprocessing.normalize(line)\n",
    "    cp = np.dot(v, line_unit[1])/np.dot(line_unit[1], line_unit[1])\n",
    "    v_projected = []\n",
    "    for i in cp:\n",
    "        v_projected.append(i * line_unit[1, :])\n",
    "    v_projected = np.array(v_projected)\n",
    "    \n",
    "    plt.figure(figsize=(8, 8))\n",
    "    plt.scatter(v[:, 0], v[:, 1])\n",
    "    plt.plot(line[:, 0], line[:, 1])\n",
    "    plt.plot(line_unit[:, 0], line_unit[:, 1])\n",
    "    plt.scatter(v_projected[:, 0], v_projected[:, 1])\n",
    "#     plt.axis('equal')\n",
    "    plt.show()\n",
    "    \n",
    "    return cp"
   ]
  },
  {
   "cell_type": "code",
   "execution_count": 97,
   "metadata": {
    "ExecuteTime": {
     "end_time": "2018-03-12T20:14:23.621720Z",
     "start_time": "2018-03-12T20:14:23.475565Z"
    }
   },
   "outputs": [
    {
     "data": {
      "image/png": "[encoded data removed]",
      "text/plain": [
       "<matplotlib.figure.Figure at 0xaf5bd75080>"
      ]
     },
     "metadata": {},
     "output_type": "display_data"
    }
   ],
   "source": [
    "v = np.array([[3, 5], [8, 3]])\n",
    "\n",
    "line = np.array([[0, 0], [2, 2]])\n",
    "line_unit = preprocessing.normalize(line)\n",
    "\n",
    "plt.figure(figsize=(8, 8))\n",
    "plt.scatter(v[:, 0], v[:, 1])\n",
    "plt.plot(line[:, 0], line[:, 1])\n",
    "plt.plot(line_unit[:, 0], line_unit[:, 1])\n",
    "plt.axis('equal')\n",
    "plt.show()"
   ]
  },
  {
   "cell_type": "code",
   "execution_count": 83,
   "metadata": {
    "ExecuteTime": {
     "end_time": "2018-03-12T20:05:53.251955Z",
     "start_time": "2018-03-12T20:05:53.247944Z"
    }
   },
   "outputs": [
    {
     "data": {
      "text/plain": [
       "array([[1.    , 0.    ],\n",
       "       [0.669 , 0.7433]])"
      ]
     },
     "execution_count": 83,
     "metadata": {},
     "output_type": "execute_result"
    }
   ],
   "source": [
    "line_unit"
   ]
  },
  {
   "cell_type": "code",
   "execution_count": 73,
   "metadata": {
    "ExecuteTime": {
     "end_time": "2018-03-12T19:56:49.680410Z",
     "start_time": "2018-03-12T19:56:49.676410Z"
    },
    "collapsed": true
   },
   "outputs": [],
   "source": [
    "cp = np.dot(v, line_unit[1])/np.dot(line_unit[1], line_unit[1])\n",
    "v_projected = []\n",
    "for i in cp:\n",
    "    v_projected.append(i * line_unit[1, :])\n",
    "v_projected = np.array(v_projected)"
   ]
  },
  {
   "cell_type": "code",
   "execution_count": 76,
   "metadata": {
    "ExecuteTime": {
     "end_time": "2018-03-12T19:57:40.972045Z",
     "start_time": "2018-03-12T19:57:40.840590Z"
    }
   },
   "outputs": [
    {
     "data": {
      "image/png": "[encoded data removed]",
      "text/plain": [
       "<matplotlib.figure.Figure at 0xaf61d4dcf8>"
      ]
     },
     "metadata": {},
     "output_type": "display_data"
    }
   ],
   "source": [
    "plt.figure(figsize=(8, 8))\n",
    "plt.scatter(v[:, 0], v[:, 1])\n",
    "plt.plot(line[:, 0], line[:, 1])\n",
    "plt.plot(line_unit[:, 0], line_unit[:, 1])\n",
    "plt.scatter(v_projected[:, 0], v_projected[:, 1])\n",
    "plt.axis('equal')\n",
    "plt.show()"
   ]
  },
  {
   "cell_type": "code",
   "execution_count": 80,
   "metadata": {
    "ExecuteTime": {
     "end_time": "2018-03-12T20:03:08.040439Z",
     "start_time": "2018-03-12T20:03:07.989306Z"
    },
    "collapsed": true
   },
   "outputs": [],
   "source": [
    "dm = DirectMapping()\n",
    "dm.set_label(df)\n",
    "df_labeled = dm.df"
   ]
  },
  {
   "cell_type": "code",
   "execution_count": 100,
   "metadata": {
    "ExecuteTime": {
     "end_time": "2018-03-12T20:15:22.599926Z",
     "start_time": "2018-03-12T20:15:22.450217Z"
    }
   },
   "outputs": [
    {
     "data": {
      "image/png": "[encoded data removed]",
      "text/plain": [
       "<matplotlib.figure.Figure at 0xaf5cc97860>"
      ]
     },
     "metadata": {},
     "output_type": "display_data"
    },
    {
     "data": {
      "text/plain": [
       "array([ 0.0093, -0.0575,  0.0292,  0.0889,  0.0292,  0.0889,  0.0051,\n",
       "        0.0023,  0.0959, -0.0833,  0.0292, -0.0833,  0.8293, -0.0833,\n",
       "        0.0051,  0.2822,  0.0292,  0.2822,  0.0292,  0.5212, -0.0833,\n",
       "        0.0292,  0.0292, -0.0833,  0.0292, -0.0575, -0.4816,  0.7409,\n",
       "        0.0051, -0.0575,  0.0051, -0.0833, -0.0833, -0.0833, -0.0833,\n",
       "       -0.0575, -0.0833,  0.0051, -0.0833,  0.0023, -0.0575,  0.0051,\n",
       "       -0.0833, -0.0833,  0.0023,  0.0093,  0.0292,  0.0292, -0.0575,\n",
       "        0.0292,  0.0051,  0.0292, -0.0575, -0.0575, -0.0575,  0.0292,\n",
       "        0.5212,  0.0051,  0.1938,  0.4328,  0.0292,  0.4328,  0.1938,\n",
       "        0.0051,  0.0051, -0.0575, -0.0833,  0.0051,  0.0292,  0.0292,\n",
       "       -0.0833, -0.0575, -0.0135, -0.0575,  0.0292, -0.0833, -0.0833,\n",
       "        0.4328, -0.0834,  0.1084, -0.0833,  0.0292,  0.0292,  0.0749,\n",
       "        0.0889, -0.4195, -0.0834,  0.0959,  0.0051, -0.2756,  0.0889,\n",
       "        0.0959,  0.4996,  0.0959,  0.0051,  0.1084, -0.0135,  0.0889,\n",
       "       -0.3223, -0.4195,  0.5212, -0.163 ,  0.2822, -0.163 , -0.5507,\n",
       "       -0.5507,  0.0051, -0.163 ,  0.4996,  0.0889, -0.6321,  0.0959,\n",
       "       -0.5507,  0.0889, -0.3223, -0.2756,  0.8293, -0.3223,  0.0749,\n",
       "        0.0051,  0.8293, -0.5507,  0.0889, -0.4195, -0.5507,  0.0889,\n",
       "        0.8293,  0.0093, -0.6075,  0.0051, -0.5507, -0.3223, -0.5507,\n",
       "        0.0959,  0.4996, -0.0135,  0.0959, -0.5507, -0.3223, -0.5507,\n",
       "       -0.6321,  0.0051, -0.2756,  0.0023, -0.4195, -0.3223,  0.8293,\n",
       "       -0.5507, -0.4195, -0.2756, -0.0135,  0.8293, -0.6075,  0.0959,\n",
       "        0.0749,  0.0749,  0.0749, -0.2756,  0.0749,  0.0749, -0.3223,\n",
       "       -0.6321, -0.5507,  0.0959,  0.8293,  0.8293, -0.5507,  0.0218,\n",
       "        0.0749,  0.0051,  0.0051,  0.2822, -0.0833,  0.0889,  0.1084,\n",
       "        0.0889,  0.0959,  0.0889,  0.0889, -0.0833,  0.0292,  0.0051,\n",
       "        0.0093,  0.0023,  0.0051,  0.0218,  0.0023, -0.0833,  0.0051,\n",
       "        0.0889,  0.0959,  0.0292,  0.0292,  0.0292,  0.7409, -0.0833,\n",
       "        0.0051, -0.0833,  0.0292,  0.5212,  0.0959,  0.0093, -0.0833,\n",
       "       -0.0833, -0.0833,  0.7409])"
      ]
     },
     "execution_count": 100,
     "metadata": {},
     "output_type": "execute_result"
    }
   ],
   "source": [
    "v = df_labeled[['Latency', 'Slices']].as_matrix()\n",
    "orthogonal_projection(v_scaled, line)"
   ]
  },
  {
   "cell_type": "code",
   "execution_count": 102,
   "metadata": {
    "ExecuteTime": {
     "end_time": "2018-03-12T20:20:40.367408Z",
     "start_time": "2018-03-12T20:20:40.364401Z"
    },
    "collapsed": true
   },
   "outputs": [],
   "source": [
    "estimator = linear_model.LinearRegression(normalize=True)"
   ]
  },
  {
   "cell_type": "code",
   "execution_count": 117,
   "metadata": {
    "ExecuteTime": {
     "end_time": "2018-03-12T20:25:31.580891Z",
     "start_time": "2018-03-12T20:25:31.575877Z"
    }
   },
   "outputs": [
    {
     "name": "stderr",
     "output_type": "stream",
     "text": [
      "C:\\Users\\sxl131830\\AppData\\Local\\Continuum\\Anaconda3\\lib\\site-packages\\ipykernel_launcher.py:1: FutureWarning: reshape is deprecated and will raise in a subsequent release. Please use .values.reshape(...) instead\n",
      "  \"\"\"Entry point for launching an IPython kernel.\n",
      "C:\\Users\\sxl131830\\AppData\\Local\\Continuum\\Anaconda3\\lib\\site-packages\\ipykernel_launcher.py:2: FutureWarning: reshape is deprecated and will raise in a subsequent release. Please use .values.reshape(...) instead\n",
      "  \n"
     ]
    }
   ],
   "source": [
    "X = df_labeled[df.PF_FPGA].Latency.reshape(-1, 1)\n",
    "y = df_labeled[df.PF_FPGA].Slices.reshape(-1, 1)"
   ]
  },
  {
   "cell_type": "code",
   "execution_count": 118,
   "metadata": {
    "ExecuteTime": {
     "end_time": "2018-03-12T20:25:32.381732Z",
     "start_time": "2018-03-12T20:25:32.375716Z"
    }
   },
   "outputs": [
    {
     "name": "stderr",
     "output_type": "stream",
     "text": [
      "C:\\Users\\sxl131830\\AppData\\Local\\Continuum\\Anaconda3\\lib\\site-packages\\sklearn\\utils\\validation.py:475: DataConversionWarning: Data with input dtype int64 was converted to float64 by StandardScaler.\n",
      "  warnings.warn(msg, DataConversionWarning)\n"
     ]
    }
   ],
   "source": [
    "X_scaled = StandardScaler().fit_transform(X)\n",
    "y_scaled = StandardScaler().fit_transform(y)"
   ]
  },
  {
   "cell_type": "code",
   "execution_count": 121,
   "metadata": {
    "ExecuteTime": {
     "end_time": "2018-03-12T20:26:38.187980Z",
     "start_time": "2018-03-12T20:26:38.181965Z"
    }
   },
   "outputs": [
    {
     "data": {
      "text/plain": [
       "LinearRegression(copy_X=True, fit_intercept=True, n_jobs=1, normalize=True)"
      ]
     },
     "execution_count": 121,
     "metadata": {},
     "output_type": "execute_result"
    }
   ],
   "source": [
    "estimator.fit(X, y)"
   ]
  },
  {
   "cell_type": "code",
   "execution_count": 131,
   "metadata": {
    "ExecuteTime": {
     "end_time": "2018-03-12T20:32:45.414914Z",
     "start_time": "2018-03-12T20:32:45.407899Z"
    }
   },
   "outputs": [
    {
     "data": {
      "text/plain": [
       "LinearRegression(copy_X=True, fit_intercept=True, n_jobs=1, normalize=True)"
      ]
     },
     "execution_count": 131,
     "metadata": {},
     "output_type": "execute_result"
    }
   ],
   "source": [
    "estimator.fit(X_scaled, y_scaled)"
   ]
  },
  {
   "cell_type": "code",
   "execution_count": 122,
   "metadata": {
    "ExecuteTime": {
     "end_time": "2018-03-12T20:26:39.769933Z",
     "start_time": "2018-03-12T20:26:39.765922Z"
    }
   },
   "outputs": [
    {
     "data": {
      "text/plain": [
       "array([[-34.9936]])"
      ]
     },
     "execution_count": 122,
     "metadata": {},
     "output_type": "execute_result"
    }
   ],
   "source": [
    "estimator.coef_"
   ]
  },
  {
   "cell_type": "code",
   "execution_count": 132,
   "metadata": {
    "ExecuteTime": {
     "end_time": "2018-03-12T20:32:48.546588Z",
     "start_time": "2018-03-12T20:32:48.543579Z"
    },
    "collapsed": true
   },
   "outputs": [],
   "source": [
    "line_scope = -1 / estimator.coef_[0][0]"
   ]
  },
  {
   "cell_type": "code",
   "execution_count": 133,
   "metadata": {
    "ExecuteTime": {
     "end_time": "2018-03-12T20:32:53.298413Z",
     "start_time": "2018-03-12T20:32:53.295433Z"
    },
    "collapsed": true
   },
   "outputs": [],
   "source": [
    "line = np.array([[0, 0], [2, 2 * line_scope]])"
   ]
  },
  {
   "cell_type": "code",
   "execution_count": 130,
   "metadata": {
    "ExecuteTime": {
     "end_time": "2018-03-12T20:31:24.252904Z",
     "start_time": "2018-03-12T20:31:24.097146Z"
    }
   },
   "outputs": [
    {
     "data": {
      "image/png": "[encoded data removed]",
      "text/plain": [
       "<matplotlib.figure.Figure at 0xaf4fe12390>"
      ]
     },
     "metadata": {},
     "output_type": "display_data"
    },
    {
     "data": {
      "text/plain": [
       "array([32.2461, 31.1606, 33.0175, 33.9887, 33.0175, 33.9887, 33.0748,\n",
       "       32.1318, 34.103 , 31.1893, 33.0175, 31.1893, 53.6446, 31.1893,\n",
       "       33.0748, 37.1309, 33.0175, 37.1309, 33.0175, 41.0157, 31.1893,\n",
       "       33.0175, 33.0175, 31.1893, 33.0175, 31.1606, 32.3351, 51.7591,\n",
       "       33.0748, 31.1606, 33.0748, 31.1893, 31.1893, 31.1893, 31.1893,\n",
       "       31.1606, 31.1893, 33.0748, 31.1893, 32.1318, 31.1606, 33.0748,\n",
       "       31.1893, 31.1893, 32.1318, 32.2461, 33.0175, 33.0175, 31.1606,\n",
       "       33.0175, 33.0748, 33.0175, 31.1606, 31.1606, 31.1606, 33.0175,\n",
       "       41.0157, 33.0748, 35.2454, 39.1302, 33.0175, 39.1302, 35.2454,\n",
       "       33.0748, 33.0748, 31.1606, 31.1893, 33.0748, 33.0175, 33.0175,\n",
       "       31.1893, 31.1606, 39.0475, 31.1606, 33.0175, 31.1893, 31.1893,\n",
       "       39.1302, 32.5324, 40.1326, 31.1893, 33.0175, 33.0175, 40.9329,\n",
       "       33.9887, 33.7921, 32.5324, 34.103 , 33.0748, 30.3047, 33.9887,\n",
       "       34.103 , 47.3885, 34.103 , 33.0748, 40.1326, 39.0475, 33.9887,\n",
       "       35.8204, 33.7921, 41.0157, 37.9626, 37.1309, 37.9626, 32.1069,\n",
       "       32.1069, 33.0748, 37.9626, 47.3885, 33.9887, 30.3357, 34.103 ,\n",
       "       32.1069, 33.9887, 35.8204, 30.3047, 53.6446, 35.8204, 40.9329,\n",
       "       33.0748, 53.6446, 32.1069, 33.9887, 33.7921, 32.1069, 33.9887,\n",
       "       53.6446, 32.2461, 30.7356, 33.0748, 32.1069, 35.8204, 32.1069,\n",
       "       34.103 , 47.3885, 39.0475, 34.103 , 32.1069, 35.8204, 32.1069,\n",
       "       30.3357, 33.0748, 30.3047, 32.1318, 33.7921, 35.8204, 53.6446,\n",
       "       32.1069, 33.7921, 30.3047, 39.0475, 53.6446, 30.7356, 34.103 ,\n",
       "       40.9329, 40.9329, 40.9329, 30.3047, 40.9329, 40.9329, 35.8204,\n",
       "       30.3357, 32.1069, 34.103 , 53.6446, 53.6446, 32.1069, 38.2757,\n",
       "       40.9329, 33.0748, 33.0748, 37.1309, 31.1893, 33.9887, 40.1326,\n",
       "       33.9887, 34.103 , 33.9887, 33.9887, 31.1893, 33.0175, 33.0748,\n",
       "       32.2461, 32.1318, 33.0748, 38.2757, 32.1318, 31.1893, 33.0748,\n",
       "       33.9887, 34.103 , 33.0175, 33.0175, 33.0175, 51.7591, 31.1893,\n",
       "       33.0748, 31.1893, 33.0175, 41.0157, 34.103 , 32.2461, 31.1893,\n",
       "       31.1893, 31.1893, 51.7591])"
      ]
     },
     "execution_count": 130,
     "metadata": {},
     "output_type": "execute_result"
    }
   ],
   "source": [
    "v = df_labeled[['Latency', 'Slices']].as_matrix()\n",
    "orthogonal_projection(v, line)"
   ]
  },
  {
   "cell_type": "code",
   "execution_count": 134,
   "metadata": {
    "ExecuteTime": {
     "end_time": "2018-03-12T20:33:01.218830Z",
     "start_time": "2018-03-12T20:33:01.055487Z"
    }
   },
   "outputs": [
    {
     "data": {
      "image/png": "[encoded data removed]",
      "text/plain": [
       "<matplotlib.figure.Figure at 0xaf5b9f0080>"
      ]
     },
     "metadata": {},
     "output_type": "display_data"
    },
    {
     "data": {
      "text/plain": [
       "array([ 0.0046, -0.0625,  0.0253,  0.0853,  0.0253,  0.0853,  0.0019,\n",
       "       -0.0025,  0.0923, -0.0877,  0.0253, -0.0877,  0.8413, -0.0877,\n",
       "        0.0019,  0.2794,  0.0253,  0.2794,  0.0253,  0.5193, -0.0877,\n",
       "        0.0253,  0.0253, -0.0877,  0.0253, -0.0625, -0.475 ,  0.7518,\n",
       "        0.0019, -0.0625,  0.0019, -0.0877, -0.0877, -0.0877, -0.0877,\n",
       "       -0.0625, -0.0877,  0.0019, -0.0877, -0.0025, -0.0625,  0.0019,\n",
       "       -0.0877, -0.0877, -0.0025,  0.0046,  0.0253,  0.0253, -0.0625,\n",
       "        0.0253,  0.0019,  0.0253, -0.0625, -0.0625, -0.0625,  0.0253,\n",
       "        0.5193,  0.0019,  0.1898,  0.4298,  0.0253,  0.4298,  0.1898,\n",
       "        0.0019,  0.0019, -0.0625, -0.0877,  0.0019,  0.0253,  0.0253,\n",
       "       -0.0877, -0.0625, -0.0065, -0.0625,  0.0253, -0.0877, -0.0877,\n",
       "        0.4298, -0.0855,  0.1145, -0.0877,  0.0253,  0.0253,  0.0831,\n",
       "        0.0853, -0.4119, -0.0855,  0.0923,  0.0019, -0.277 ,  0.0853,\n",
       "        0.0923,  0.5088,  0.0923,  0.0019,  0.1145, -0.0065,  0.0853,\n",
       "       -0.3136, -0.4119,  0.5193, -0.1543,  0.2794, -0.1543, -0.543 ,\n",
       "       -0.543 ,  0.0019, -0.1543,  0.5088,  0.0853, -0.6254,  0.0923,\n",
       "       -0.543 ,  0.0853, -0.3136, -0.277 ,  0.8413, -0.3136,  0.0831,\n",
       "        0.0019,  0.8413, -0.543 ,  0.0853, -0.4119, -0.543 ,  0.0853,\n",
       "        0.8413,  0.0046, -0.6007,  0.0019, -0.543 , -0.3136, -0.543 ,\n",
       "        0.0923,  0.5088, -0.0065,  0.0923, -0.543 , -0.3136, -0.543 ,\n",
       "       -0.6254,  0.0019, -0.277 , -0.0025, -0.4119, -0.3136,  0.8413,\n",
       "       -0.543 , -0.4119, -0.277 , -0.0065,  0.8413, -0.6007,  0.0923,\n",
       "        0.0831,  0.0831,  0.0831, -0.277 ,  0.0831,  0.0831, -0.3136,\n",
       "       -0.6254, -0.543 ,  0.0923,  0.8413,  0.8413, -0.543 ,  0.0267,\n",
       "        0.0831,  0.0019,  0.0019,  0.2794, -0.0877,  0.0853,  0.1145,\n",
       "        0.0853,  0.0923,  0.0853,  0.0853, -0.0877,  0.0253,  0.0019,\n",
       "        0.0046, -0.0025,  0.0019,  0.0267, -0.0025, -0.0877,  0.0019,\n",
       "        0.0853,  0.0923,  0.0253,  0.0253,  0.0253,  0.7518, -0.0877,\n",
       "        0.0019, -0.0877,  0.0253,  0.5193,  0.0923,  0.0046, -0.0877,\n",
       "       -0.0877, -0.0877,  0.7518])"
      ]
     },
     "execution_count": 134,
     "metadata": {},
     "output_type": "execute_result"
    }
   ],
   "source": [
    "v = df_labeled[['Latency', 'Slices']].as_matrix()\n",
    "orthogonal_projection(v_scaled, line)"
   ]
  }
 ],
 "metadata": {
  "hide_input": false,
  "kernelspec": {
   "display_name": "Python 3",
   "language": "python",
   "name": "python3"
  },
  "language_info": {
   "codemirror_mode": {
    "name": "ipython",
    "version": 3
   },
   "file_extension": ".py",
   "mimetype": "text/x-python",
   "name": "python",
   "nbconvert_exporter": "python",
   "pygments_lexer": "ipython3",
   "version": "3.6.1"
  },
  "toc": {
   "nav_menu": {},
   "number_sections": true,
   "sideBar": true,
   "skip_h1_title": false,
   "title_cell": "Table of Contents",
   "title_sidebar": "Contents",
   "toc_cell": false,
   "toc_position": {},
   "toc_section_display": true,
   "toc_window_display": false
  }
 },
 "nbformat": 4,
 "nbformat_minor": 2
}
