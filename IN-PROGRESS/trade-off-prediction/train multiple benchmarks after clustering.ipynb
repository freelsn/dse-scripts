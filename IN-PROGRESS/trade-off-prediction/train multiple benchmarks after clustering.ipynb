{
 "cells": [
  {
   "cell_type": "code",
   "execution_count": 1,
   "metadata": {
    "collapsed": true
   },
   "outputs": [],
   "source": [
    "%run ml_header.py"
   ]
  },
  {
   "cell_type": "code",
   "execution_count": 2,
   "metadata": {
    "collapsed": true
   },
   "outputs": [],
   "source": [
    "%run get_data.py\n",
    "benchmarks = ('adpcm_encoder', 'aes', 'ann', 'average', 'decimation', 'fft_fixed', 'fir',\n",
    "              'idct', 'interpolation', 'kasumi', 'qsort', 'snow3g', 'sobel')  # 13\n",
    "gd = GetData('data/ASIC-2-FPGA', benchmarks)\n",
    "gd.main()"
   ]
  },
  {
   "cell_type": "code",
   "execution_count": 3,
   "metadata": {
    "collapsed": true
   },
   "outputs": [],
   "source": [
    "%run methods.py\n",
    "%run machine_learning.py"
   ]
  },
  {
   "cell_type": "code",
   "execution_count": 81,
   "metadata": {
    "collapsed": true
   },
   "outputs": [],
   "source": [
    "# features = ['AREA', 'state', 'FU', 'REG', 'MUX', 'DEC', 'pin_pair',\n",
    "#             'net', 'max', 'min', 'ave', 'MISC', 'MEM', 'sim', 'Pmax',\n",
    "#             'Pmin', 'Pave', 'Latency', 'BlockMemoryBit', 'DSP', 'Slices']\n",
    "features = ['MUX', 'pin_pair', 'net', 'MISC', 'AREA', 'Slices', 'Latency']\n",
    "invalid_features = ['Slices', 'Latency']\n",
    "valid_features = [i for i in features if i not in invalid_features]\n",
    "label = 'Slices'"
   ]
  },
  {
   "cell_type": "code",
   "execution_count": 80,
   "metadata": {
    "collapsed": true
   },
   "outputs": [],
   "source": [
    "important_features = ['MUX', 'pin_pair', 'net', 'MISC', 'AREA']"
   ]
  },
  {
   "cell_type": "code",
   "execution_count": 82,
   "metadata": {
    "collapsed": true
   },
   "outputs": [],
   "source": [
    "# estimator = ensemble.AdaBoostRegressor(tree.DecisionTreeRegressor())\n",
    "estimator = linear_model.LinearRegression()"
   ]
  },
  {
   "cell_type": "code",
   "execution_count": 88,
   "metadata": {
    "collapsed": true
   },
   "outputs": [],
   "source": [
    "# train_set = [gd.data_v4[i][features] for i in ('fft_fixed', 'kasumi', 'fir')]\n",
    "# train_set = pd.concat(train_set, axis=0, ignore_index=True)\n",
    "train_set = gd.data_v4['fft_fixed']\n",
    "# train_set = gd.data_v4['kasumi']\n",
    "# train_set = gd.data_v4['idct']"
   ]
  },
  {
   "cell_type": "code",
   "execution_count": 89,
   "metadata": {
    "collapsed": true
   },
   "outputs": [],
   "source": [
    "train_set = ML.fix_missing_data(train_set)\n",
    "X, y = ML.separate_feature_label(train_set, valid_features=valid_features, label=label)\n",
    "X = ML.feature_scaling(X)"
   ]
  },
  {
   "cell_type": "code",
   "execution_count": 90,
   "metadata": {},
   "outputs": [
    {
     "data": {
      "text/plain": [
       "LinearRegression(copy_X=True, fit_intercept=True, n_jobs=1, normalize=False)"
      ]
     },
     "execution_count": 90,
     "metadata": {},
     "output_type": "execute_result"
    }
   ],
   "source": [
    "estimator.fit(X, y)"
   ]
  },
  {
   "cell_type": "code",
   "execution_count": 91,
   "metadata": {
    "collapsed": true
   },
   "outputs": [],
   "source": [
    "benchmark_test = 'ann'\n",
    "test_set = ML.fix_missing_data(gd.data_v4[benchmark_test][features])\n",
    "X_test, y_test = ML.separate_feature_label(test_set, valid_features=valid_features, label=label)\n",
    "X_test = ML.feature_scaling(X_test)"
   ]
  },
  {
   "cell_type": "code",
   "execution_count": 92,
   "metadata": {},
   "outputs": [
    {
     "data": {
      "text/plain": [
       "{'adrs_ave': 0.041510847345241651,\n",
       " 'adrs_ave_rms': 0.10695461597763734,\n",
       " 'adrs_max': 0.073555166374781086,\n",
       " 'adrs_max_rms': 0.56336692390911891,\n",
       " 'cardinality': 11,\n",
       " 'dominance': 0.2222222222222222,\n",
       " 'hypervolume': 0.66554358747204423}"
      ]
     },
     "execution_count": 92,
     "metadata": {},
     "output_type": "execute_result"
    }
   ],
   "source": [
    "y_pred = estimator.predict(X_test)\n",
    "test_set['AREA'] = y_pred\n",
    "DirectMapping.main(test_set)"
   ]
  },
  {
   "cell_type": "code",
   "execution_count": null,
   "metadata": {
    "collapsed": true
   },
   "outputs": [],
   "source": []
  }
 ],
 "metadata": {
  "hide_input": false,
  "kernelspec": {
   "display_name": "Python 3",
   "language": "python",
   "name": "python3"
  },
  "language_info": {
   "codemirror_mode": {
    "name": "ipython",
    "version": 3
   },
   "file_extension": ".py",
   "mimetype": "text/x-python",
   "name": "python",
   "nbconvert_exporter": "python",
   "pygments_lexer": "ipython3",
   "version": "3.6.1"
  },
  "toc": {
   "nav_menu": {},
   "number_sections": true,
   "sideBar": true,
   "skip_h1_title": false,
   "title_cell": "Table of Contents",
   "title_sidebar": "Contents",
   "toc_cell": false,
   "toc_position": {},
   "toc_section_display": true,
   "toc_window_display": false
  }
 },
 "nbformat": 4,
 "nbformat_minor": 2
}
