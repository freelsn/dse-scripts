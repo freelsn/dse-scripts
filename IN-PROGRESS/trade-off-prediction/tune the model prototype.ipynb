{
 "cells": [
  {
   "cell_type": "code",
   "execution_count": 2,
   "metadata": {
    "ExecuteTime": {
     "end_time": "2018-03-12T17:53:25.959125Z",
     "start_time": "2018-03-12T17:53:19.473658Z"
    }
   },
   "outputs": [
    {
     "name": "stdout",
     "output_type": "stream",
     "text": [
      "Python version: 3.6.1 |Anaconda 4.4.0 (64-bit)| (default, May 11 2017, 13:25:24) [MSC v.1900 64 bit (AMD64)]\n",
      "pandas version: 0.20.1\n",
      "matplotlib version: 2.0.2\n",
      "NumPy version: 1.14.1\n",
      "SciPy version: 1.0.0\n",
      "IPython version: 5.3.0\n",
      "scikit-learn version: 0.19.1\n",
      "-------------------------\n"
     ]
    }
   ],
   "source": [
    "%run header.py data/ASIC-2-FPGA"
   ]
  },
  {
   "cell_type": "code",
   "execution_count": 3,
   "metadata": {
    "ExecuteTime": {
     "end_time": "2018-03-12T17:53:29.949637Z",
     "start_time": "2018-03-12T17:53:29.905546Z"
    }
   },
   "outputs": [
    {
     "data": {
      "text/html": [
       "<div>\n",
       "<style>\n",
       "    .dataframe thead tr:only-child th {\n",
       "        text-align: right;\n",
       "    }\n",
       "\n",
       "    .dataframe thead th {\n",
       "        text-align: left;\n",
       "    }\n",
       "\n",
       "    .dataframe tbody tr th {\n",
       "        vertical-align: top;\n",
       "    }\n",
       "</style>\n",
       "<table border=\"1\" class=\"dataframe\">\n",
       "  <thead>\n",
       "    <tr style=\"text-align: right;\">\n",
       "      <th></th>\n",
       "      <th>AREA</th>\n",
       "      <th>state</th>\n",
       "      <th>FU</th>\n",
       "      <th>REG</th>\n",
       "      <th>MUX</th>\n",
       "      <th>DEC</th>\n",
       "      <th>pin_pair</th>\n",
       "      <th>net</th>\n",
       "      <th>max</th>\n",
       "      <th>min</th>\n",
       "      <th>ave</th>\n",
       "      <th>MISC</th>\n",
       "      <th>MEM</th>\n",
       "      <th>sim</th>\n",
       "      <th>Pmax</th>\n",
       "      <th>Pmin</th>\n",
       "      <th>Pave</th>\n",
       "      <th>Latency</th>\n",
       "      <th>BlockMemoryBit</th>\n",
       "      <th>DSP</th>\n",
       "      <th>Slices</th>\n",
       "    </tr>\n",
       "  </thead>\n",
       "  <tbody>\n",
       "    <tr>\n",
       "      <th>0</th>\n",
       "      <td>1846</td>\n",
       "      <td>4</td>\n",
       "      <td>977</td>\n",
       "      <td>636</td>\n",
       "      <td>203</td>\n",
       "      <td>0</td>\n",
       "      <td>3246</td>\n",
       "      <td>1505</td>\n",
       "      <td>4</td>\n",
       "      <td>4</td>\n",
       "      <td>4.0</td>\n",
       "      <td>30</td>\n",
       "      <td>0</td>\n",
       "      <td>0</td>\n",
       "      <td>0</td>\n",
       "      <td>0</td>\n",
       "      <td>0</td>\n",
       "      <td>21</td>\n",
       "      <td>0</td>\n",
       "      <td>0</td>\n",
       "      <td>394</td>\n",
       "    </tr>\n",
       "    <tr>\n",
       "      <th>1</th>\n",
       "      <td>1574</td>\n",
       "      <td>4</td>\n",
       "      <td>670</td>\n",
       "      <td>636</td>\n",
       "      <td>238</td>\n",
       "      <td>0</td>\n",
       "      <td>2935</td>\n",
       "      <td>1337</td>\n",
       "      <td>4</td>\n",
       "      <td>4</td>\n",
       "      <td>4.0</td>\n",
       "      <td>30</td>\n",
       "      <td>0</td>\n",
       "      <td>0</td>\n",
       "      <td>0</td>\n",
       "      <td>0</td>\n",
       "      <td>0</td>\n",
       "      <td>21</td>\n",
       "      <td>0</td>\n",
       "      <td>0</td>\n",
       "      <td>356</td>\n",
       "    </tr>\n",
       "  </tbody>\n",
       "</table>\n",
       "</div>"
      ],
      "text/plain": [
       "   AREA  state   FU  REG  MUX  DEC  pin_pair   net  max  min  ave  MISC  MEM  \\\n",
       "0  1846      4  977  636  203    0      3246  1505    4    4  4.0    30    0   \n",
       "1  1574      4  670  636  238    0      2935  1337    4    4  4.0    30    0   \n",
       "\n",
       "   sim  Pmax  Pmin  Pave  Latency  BlockMemoryBit  DSP  Slices  \n",
       "0    0     0     0     0       21               0    0     394  \n",
       "1    0     0     0     0       21               0    0     356  "
      ]
     },
     "metadata": {},
     "output_type": "display_data"
    },
    {
     "data": {
      "text/html": [
       "<div>\n",
       "<style>\n",
       "    .dataframe thead tr:only-child th {\n",
       "        text-align: right;\n",
       "    }\n",
       "\n",
       "    .dataframe thead th {\n",
       "        text-align: left;\n",
       "    }\n",
       "\n",
       "    .dataframe tbody tr th {\n",
       "        vertical-align: top;\n",
       "    }\n",
       "</style>\n",
       "<table border=\"1\" class=\"dataframe\">\n",
       "  <thead>\n",
       "    <tr style=\"text-align: right;\">\n",
       "      <th></th>\n",
       "      <th>AREA</th>\n",
       "      <th>state</th>\n",
       "      <th>FU</th>\n",
       "      <th>REG</th>\n",
       "      <th>MUX</th>\n",
       "      <th>DEC</th>\n",
       "      <th>pin_pair</th>\n",
       "      <th>net</th>\n",
       "      <th>max</th>\n",
       "      <th>min</th>\n",
       "      <th>ave</th>\n",
       "      <th>MISC</th>\n",
       "      <th>MEM</th>\n",
       "      <th>sim</th>\n",
       "      <th>Pmax</th>\n",
       "      <th>Pmin</th>\n",
       "      <th>Pave</th>\n",
       "      <th>BlockMemoryBit</th>\n",
       "      <th>DSP</th>\n",
       "    </tr>\n",
       "  </thead>\n",
       "  <tbody>\n",
       "    <tr>\n",
       "      <th>0</th>\n",
       "      <td>1846</td>\n",
       "      <td>4</td>\n",
       "      <td>977</td>\n",
       "      <td>636</td>\n",
       "      <td>203</td>\n",
       "      <td>0</td>\n",
       "      <td>3246</td>\n",
       "      <td>1505</td>\n",
       "      <td>4</td>\n",
       "      <td>4</td>\n",
       "      <td>4.0</td>\n",
       "      <td>30</td>\n",
       "      <td>0</td>\n",
       "      <td>0</td>\n",
       "      <td>0</td>\n",
       "      <td>0</td>\n",
       "      <td>0</td>\n",
       "      <td>0</td>\n",
       "      <td>0</td>\n",
       "    </tr>\n",
       "    <tr>\n",
       "      <th>1</th>\n",
       "      <td>1574</td>\n",
       "      <td>4</td>\n",
       "      <td>670</td>\n",
       "      <td>636</td>\n",
       "      <td>238</td>\n",
       "      <td>0</td>\n",
       "      <td>2935</td>\n",
       "      <td>1337</td>\n",
       "      <td>4</td>\n",
       "      <td>4</td>\n",
       "      <td>4.0</td>\n",
       "      <td>30</td>\n",
       "      <td>0</td>\n",
       "      <td>0</td>\n",
       "      <td>0</td>\n",
       "      <td>0</td>\n",
       "      <td>0</td>\n",
       "      <td>0</td>\n",
       "      <td>0</td>\n",
       "    </tr>\n",
       "  </tbody>\n",
       "</table>\n",
       "</div>"
      ],
      "text/plain": [
       "   AREA  state   FU  REG  MUX  DEC  pin_pair   net  max  min  ave  MISC  MEM  \\\n",
       "0  1846      4  977  636  203    0      3246  1505    4    4  4.0    30    0   \n",
       "1  1574      4  670  636  238    0      2935  1337    4    4  4.0    30    0   \n",
       "\n",
       "   sim  Pmax  Pmin  Pave  BlockMemoryBit  DSP  \n",
       "0    0     0     0     0               0    0  \n",
       "1    0     0     0     0               0    0  "
      ]
     },
     "metadata": {},
     "output_type": "display_data"
    },
    {
     "data": {
      "text/plain": [
       "0    394\n",
       "1    356\n",
       "Name: Slices, dtype: int64"
      ]
     },
     "metadata": {},
     "output_type": "display_data"
    }
   ],
   "source": [
    "df = ML.fix_missing_data(gd.data_v4['adpcm_encoder'].drop(['index'], axis=1)[features])\n",
    "X = df[valid_features].copy()\n",
    "y = df.Slices.copy()\n",
    "display(df.head(2))\n",
    "display(X.head(2))\n",
    "display(y.head(2))"
   ]
  },
  {
   "cell_type": "code",
   "execution_count": 112,
   "metadata": {
    "ExecuteTime": {
     "end_time": "2018-03-12T18:42:53.349968Z",
     "start_time": "2018-03-12T18:42:53.344954Z"
    },
    "collapsed": true
   },
   "outputs": [],
   "source": [
    "param_dict = {\n",
    "    'n_estimators': [3, 10, 30],\n",
    "    'max_depth': np.arange(1, 11),\n",
    "    'max_features': np.linspace(0.1, 1.0, 10),\n",
    "    'min_samples_split': np.linspace(0.1, 1.0, 10),\n",
    "    'min_samples_leaf': np.arange(1, 11),\n",
    "    'bootstrap': [True, False],\n",
    "    'criterion': ['mse', 'mae'],\n",
    "}"
   ]
  },
  {
   "cell_type": "code",
   "execution_count": 138,
   "metadata": {
    "ExecuteTime": {
     "end_time": "2018-03-12T22:48:54.542622Z",
     "start_time": "2018-03-12T22:48:54.537581Z"
    },
    "collapsed": true
   },
   "outputs": [],
   "source": [
    "param_dict_small = {\n",
    "    'n_estimators': [3, 10, 30],\n",
    "    'max_depth': [1, 3, 10],\n",
    "    'max_features': [0.1, 0.3, 1.0],\n",
    "    'min_samples_split': [2, 5, 10],\n",
    "    'min_samples_leaf': [1, 3, 10],\n",
    "    'bootstrap': [True, False],\n",
    "    'criterion': ['mse', 'mae'],\n",
    "}"
   ]
  },
  {
   "cell_type": "markdown",
   "metadata": {},
   "source": [
    "# RandomizedSearchCV"
   ]
  },
  {
   "cell_type": "code",
   "execution_count": 108,
   "metadata": {
    "ExecuteTime": {
     "end_time": "2018-03-12T18:42:40.275807Z",
     "start_time": "2018-03-12T18:42:40.272827Z"
    },
    "collapsed": true
   },
   "outputs": [],
   "source": [
    "estimator = ensemble.RandomForestRegressor(random_state=42)"
   ]
  },
  {
   "cell_type": "code",
   "execution_count": 146,
   "metadata": {
    "ExecuteTime": {
     "end_time": "2018-03-12T22:50:01.966830Z",
     "start_time": "2018-03-12T22:50:00.936015Z"
    },
    "collapsed": true
   },
   "outputs": [],
   "source": [
    "random_search = model_selection.RandomizedSearchCV(estimator, param_distributions=param_dict_small, n_iter=20, scoring='r2')\n",
    "random_search.fit(X, y);"
   ]
  },
  {
   "cell_type": "markdown",
   "metadata": {},
   "source": [
    "# GridSearchCV"
   ]
  },
  {
   "cell_type": "code",
   "execution_count": 140,
   "metadata": {
    "ExecuteTime": {
     "end_time": "2018-03-12T22:48:59.148237Z",
     "start_time": "2018-03-12T22:48:59.145201Z"
    },
    "collapsed": true
   },
   "outputs": [],
   "source": [
    "grid_search = model_selection.GridSearchCV(estimator, param_grid=param_dict_small, scoring='r2')\n",
    "grid_search.fit(X, y)"
   ]
  },
  {
   "cell_type": "code",
   "execution_count": 142,
   "metadata": {
    "ExecuteTime": {
     "end_time": "2018-03-12T22:49:51.421098Z",
     "start_time": "2018-03-12T22:49:51.416081Z"
    }
   },
   "outputs": [
    {
     "data": {
      "text/plain": [
       "RandomForestRegressor(bootstrap=False, criterion='mae', max_depth=10,\n",
       "           max_features=0.3, max_leaf_nodes=None,\n",
       "           min_impurity_decrease=0.0, min_impurity_split=None,\n",
       "           min_samples_leaf=3, min_samples_split=10,\n",
       "           min_weight_fraction_leaf=0.0, n_estimators=3, n_jobs=1,\n",
       "           oob_score=False, random_state=42, verbose=0, warm_start=False)"
      ]
     },
     "execution_count": 142,
     "metadata": {},
     "output_type": "execute_result"
    }
   ],
   "source": [
    "grid_search.best_estimator_"
   ]
  }
 ],
 "metadata": {
  "hide_input": false,
  "kernelspec": {
   "display_name": "Python 3",
   "language": "python",
   "name": "python3"
  },
  "language_info": {
   "codemirror_mode": {
    "name": "ipython",
    "version": 3
   },
   "file_extension": ".py",
   "mimetype": "text/x-python",
   "name": "python",
   "nbconvert_exporter": "python",
   "pygments_lexer": "ipython3",
   "version": "3.6.1"
  },
  "toc": {
   "nav_menu": {},
   "number_sections": true,
   "sideBar": true,
   "skip_h1_title": false,
   "title_cell": "Table of Contents",
   "title_sidebar": "Contents",
   "toc_cell": false,
   "toc_position": {},
   "toc_section_display": true,
   "toc_window_display": false
  }
 },
 "nbformat": 4,
 "nbformat_minor": 2
}
