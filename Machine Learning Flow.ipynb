{
 "cells": [
  {
   "cell_type": "markdown",
   "metadata": {},
   "source": [
    "# Data\n",
    "\n",
    "What is the problem?\n",
    "- Objective\n",
    "- Current solution\n",
    "\n",
    "Problem category\n",
    "- Supervised\n",
    "    - Classification\n",
    "    - Regression\n",
    "- Unsupervised\n",
    "- Reinforcement\n",
    "\n",
    "Problem scale\n",
    "- Batch learning\n",
    "- Online learning"
   ]
  },
  {
   "cell_type": "markdown",
   "metadata": {},
   "source": [
    "## Get the Data\n",
    "\n",
    "Popular open data repositories:\n",
    "- [UC Irvine Machine Learning Repository](http://archive.ics.uci.edu/ml/index.php)\n",
    "- [Kaggle Datasets](https://www.kaggle.com/datasets)"
   ]
  },
  {
   "cell_type": "markdown",
   "metadata": {},
   "source": [
    "## Visualize the Data\n",
    "\n",
    "Quick look at the data\n",
    "- `pd.head()`\n",
    "- `pd.info()`\n",
    "- `pd.describe()`\n",
    "- `pd['feature'].value_counts()`"
   ]
  },
  {
   "cell_type": "markdown",
   "metadata": {},
   "source": [
    "## Prepare the Data\n",
    "\n",
    "Generate training and test sets\n",
    "- Add a unique identifier to each instance\n",
    "- `train_test_split(data, test_size=0.2, random_state=42)`\n",
    "- `StratifiedShuffleSplit()`\n",
    "\n",
    "Feature union\n",
    "\n",
    "Data cleaning\n",
    "- Fix missing values\n",
    "    - Get rid of the corresponding distrits\n",
    "    - Get rid of the whole attribute\n",
    "    - Set the values to some value (zero, mean, median)\n",
    "    - `Imputer(strategy='median')`\n",
    "- Handling text and categorical attributes\n",
    "    - `LabelEncoder()`: however, ML algorithms will assume that two nearby values are more similar than two distant values.\n",
    "    - One-hot encoding: `OneHotEncoder()`\n",
    "    - Apply both transformations in one shot: `LabelBinarizer()`\n",
    "\n",
    "Feature scaling\n",
    "- *min-max scaling*\n",
    "- *standardization*\n",
    "- `StandardScaler()`"
   ]
  },
  {
   "cell_type": "markdown",
   "metadata": {},
   "source": [
    "# Training"
   ]
  },
  {
   "cell_type": "markdown",
   "metadata": {},
   "source": [
    "## Select & Train a Model\n",
    "\n",
    "Supervised learning\n",
    "- Regression\n",
    "    - `LinearRegression()`\n",
    "    - `DecisionTreeRegressor()`\n",
    "    - `RandomForestRegressor()`\n",
    "- Classification\n",
    "\n",
    "Unsupervised Learning"
   ]
  },
  {
   "cell_type": "markdown",
   "metadata": {},
   "source": [
    "## Fine-tune the Model\n",
    "\n",
    "Choose measurement: $l_k$ norm\n",
    "\n",
    "- $k=1$: *Mean Absolution Error (MAE)* or *Manhattan norm*\n",
    "- $k=2$: *Root Mean Square Error (RMSE)* or *Euclidian norm*, `mean_squared_error()`\n",
    "- The higher the norm index, the more it focuses on large values and neglects small ones.\n",
    "\n",
    "Cross validation\n",
    "- `cross_val_score()`\n",
    "\n",
    "Grid search\n",
    "- `GridSearchCV()`\n",
    "- `RandomizedSearchCV()`\n",
    "\n",
    "Ensemble Methods\n",
    "- Combine the models that perform best\n",
    "\n",
    "Feature weights\n",
    "- `feature_importances_`"
   ]
  },
  {
   "cell_type": "markdown",
   "metadata": {},
   "source": [
    "## Save the Model\n",
    "\n",
    "```python\n",
    "from sklearn.externals import joblib\n",
    "\n",
    "joblib.dump(my_model, \"my_model.pkl\")\n",
    "# and later...\n",
    "my_model_loaded = joblib.load(\"my_model.pkl\")\n",
    "```"
   ]
  },
  {
   "cell_type": "markdown",
   "metadata": {},
   "source": [
    "# Evaluate on the Test set\n",
    "\n",
    "Present your solution\n",
    "- What you have learned\n",
    "- What worked and what did not\n",
    "- What assumptions were made\n",
    "- What your system's limitations are"
   ]
  }
 ],
 "metadata": {
  "kernelspec": {
   "display_name": "Python 3",
   "language": "python",
   "name": "python3"
  },
  "language_info": {
   "codemirror_mode": {
    "name": "ipython",
    "version": 3
   },
   "file_extension": ".py",
   "mimetype": "text/x-python",
   "name": "python",
   "nbconvert_exporter": "python",
   "pygments_lexer": "ipython3",
   "version": "3.6.1"
  }
 },
 "nbformat": 4,
 "nbformat_minor": 2
}
