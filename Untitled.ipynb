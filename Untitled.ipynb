{
 "cells": [
  {
   "cell_type": "markdown",
   "metadata": {},
   "source": [
    "# GA"
   ]
  },
  {
   "cell_type": "code",
   "execution_count": 1,
   "metadata": {
    "collapsed": true
   },
   "outputs": [],
   "source": [
    "import pandas as pd\n",
    "import numpy as np"
   ]
  },
  {
   "cell_type": "code",
   "execution_count": 11,
   "metadata": {
    "collapsed": true
   },
   "outputs": [],
   "source": [
    "def load_data_single(file_dir):\n",
    "    asic_45 = pd.read_csv(file_dir + 'asic-45.csv', thousands=',')\n",
    "    fpga_v4 = pd.read_csv(file_dir + 'fpga-v4.csv', thousands=',')\n",
    "    fpga_v5 = pd.read_csv(file_dir + 'fpga-v5.csv', thousands=',')\n",
    "    return asic_45, fpga_v4, fpga_v5"
   ]
  },
  {
   "cell_type": "code",
   "execution_count": 14,
   "metadata": {
    "collapsed": true
   },
   "outputs": [],
   "source": [
    "benchmarks = ('average', 'decimation', 'fir', 'interpolation',\n",
    "              'qsort', 'snow3g', 'sobel')\n",
    "def load_data_all(benchmarks):\n",
    "    asic_45, fpga_v4, fpga_v5 = {}, {}, {}\n",
    "    for i in benchmarks:\n",
    "        file_dir = 'data/GA/{}/'.format(i)\n",
    "        asic_45[i], fpga_v4[i], fpga_v5[i] = load_data_single(file_dir)\n",
    "    return asic_45, fpga_v4, fpga_v5"
   ]
  },
  {
   "cell_type": "code",
   "execution_count": 15,
   "metadata": {},
   "outputs": [],
   "source": [
    "asic_45, fpga_v4, fpga_v5 = load_data_all(benchmarks)"
   ]
  },
  {
   "cell_type": "code",
   "execution_count": 23,
   "metadata": {
    "scrolled": true
   },
   "outputs": [
    {
     "name": "stdout",
     "output_type": "stream",
     "text": [
      "<class 'pandas.core.frame.DataFrame'>\n",
      "RangeIndex: 589 entries, 0 to 588\n",
      "Data columns (total 28 columns):\n",
      "AREA              589 non-null int64\n",
      "state             589 non-null int64\n",
      "FU                589 non-null int64\n",
      "REG               589 non-null int64\n",
      "MUX               589 non-null int64\n",
      "DEC               589 non-null int64\n",
      "pin_pair          589 non-null int64\n",
      "net               589 non-null int64\n",
      "max               589 non-null int64\n",
      "min               589 non-null int64\n",
      "ave               589 non-null float64\n",
      "MISC              589 non-null int64\n",
      "MEM               589 non-null object\n",
      "CP_delay          589 non-null object\n",
      "sim               589 non-null object\n",
      "Pmax              589 non-null object\n",
      "Pmin              589 non-null object\n",
      "Pave              589 non-null object\n",
      "Latency           589 non-null int64\n",
      "BlockMemoryBit    589 non-null object\n",
      "DSP               589 non-null object\n",
      "FU.1              589 non-null int64\n",
      "ATTR              589 non-null object\n",
      "ARRAY_1           589 non-null object\n",
      "ARRAY_2           589 non-null object\n",
      "LOOP_1            589 non-null object\n",
      "LOOP_2            589 non-null object\n",
      "Attr              589 non-null object\n",
      "dtypes: float64(1), int64(13), object(14)\n",
      "memory usage: 128.9+ KB\n"
     ]
    }
   ],
   "source": [
    "asic_45['fir'].info()"
   ]
  },
  {
   "cell_type": "code",
   "execution_count": 26,
   "metadata": {
    "scrolled": true
   },
   "outputs": [
    {
     "data": {
      "text/plain": [
       "'ATTR=Cyber;ARRAY_1=array=RAM;ARRAY_2=array=RAM;ARRAY_3=array=REG;ARRAY_4=array=RAM;ARRAY_5=array=RAM;ARRAY_6=array=REG;ARRAY_7=array=REG;ARRAY_8=array=RAM;ARRAY_9=array=REG;ARRAY_10=array=RAM;LOOP_1=unroll_times=all;LOOP_2=folding=1;LOOP_3=unroll_times=0;LOOP_4=folding=1;LOOP_5=unroll_times=0;LOOP_6=folding=1;LOOP_7=unroll_times=all;LOOP_8=unroll_times=0;LOOP_9=folding=0;LOOP_10=folding=1;LOOP_11=folding=0;LOOP_12=folding=0;LOOP_13=folding=0;LOOP_14=unroll_times=all;LOOP_15=folding=1;-50'"
      ]
     },
     "execution_count": 26,
     "metadata": {},
     "output_type": "execute_result"
    }
   ],
   "source": [
    "asic_45['decimation']['Attr'][1]"
   ]
  },
  {
   "cell_type": "markdown",
   "metadata": {},
   "source": [
    "# ES"
   ]
  },
  {
   "cell_type": "code",
   "execution_count": 28,
   "metadata": {
    "collapsed": true
   },
   "outputs": [],
   "source": [
    "def load_data_single(file_dir):\n",
    "    asic_45 = pd.read_csv(file_dir + 'asic-45.csv', thousands=',')\n",
    "    fpga_v4 = pd.read_csv(file_dir + 'fpga-v4.csv', thousands=',')\n",
    "#     fpga_v5 = pd.read_csv(file_dir + 'fpga-v5.csv', thousands=',')\n",
    "    return asic_45, fpga_v4"
   ]
  },
  {
   "cell_type": "code",
   "execution_count": 29,
   "metadata": {
    "collapsed": true
   },
   "outputs": [],
   "source": [
    "benchmarks = ('adpcm_encoder', 'average', 'fir')\n",
    "def load_data_all(benchmarks):\n",
    "    asic_45, fpga_v4= {}, {}\n",
    "    for i in benchmarks:\n",
    "        file_dir = 'data/ES/{}/'.format(i)\n",
    "        asic_45[i], fpga_v4[i] = load_data_single(file_dir)\n",
    "    return asic_45, fpga_v4\n",
    "\n",
    "asic_45, fpga_v4 = load_data_all(benchmarks)"
   ]
  },
  {
   "cell_type": "code",
   "execution_count": 41,
   "metadata": {},
   "outputs": [],
   "source": [
    "# combine Attr and Latency\n",
    "def combine_attr_and_latency(df):\n",
    "    for i in benchmarks:\n",
    "        df[i]['Attr_with_L'] = df[i]['Attr'] + ';' + df[i]['Latency'].astype(str)\n",
    "    return df\n",
    "\n",
    "asic_45 = combine_attr_and_latency(asic_45)\n",
    "fpga_v4 = combine_attr_and_latency(fpga_v4)"
   ]
  },
  {
   "cell_type": "code",
   "execution_count": 86,
   "metadata": {
    "scrolled": false
   },
   "outputs": [],
   "source": [
    "# remove items with mismatched latency\n",
    "# fpga_v4_latency_match = {}\n",
    "data_v4 = {}\n",
    "for i in benchmarks:\n",
    "    fpga_v4_latency_match = asic_45[i]['Attr_with_L'] == fpga_v4[i]['Attr_with_L']\n",
    "    data_v4[i] = pd.concat([asic_45[i], fpga_v4[i][['AREA']].rename(columns={'AREA': 'Slices'})], axis=1)\n",
    "    data_v4[i] = data_v4[i][fpga_v4_latency_match]"
   ]
  },
  {
   "cell_type": "code",
   "execution_count": 92,
   "metadata": {},
   "outputs": [
    {
     "name": "stdout",
     "output_type": "stream",
     "text": [
      "[adpcm_encoder]\n",
      "Slices      1.000000\n",
      "AREA        0.983713\n",
      "pin_pair    0.963431\n",
      "net         0.950855\n",
      "FU          0.948724\n",
      "MUX         0.470998\n",
      "FU.1        0.302408\n",
      "Name: Slices, dtype: float64\n",
      "\n",
      "[average]\n",
      "Slices      1.000000\n",
      "MUX         0.942432\n",
      "pin_pair    0.930450\n",
      "AREA        0.865904\n",
      "net         0.853217\n",
      "REG         0.475001\n",
      "FU          0.458792\n",
      "Latency     0.029155\n",
      "Name: Slices, dtype: float64\n",
      "\n",
      "[fir]\n",
      "Slices      1.000000\n",
      "MUX         0.968012\n",
      "pin_pair    0.678254\n",
      "REG         0.566631\n",
      "net         0.555997\n",
      "AREA        0.532947\n",
      "MISC        0.445326\n",
      "state       0.192941\n",
      "ave         0.183031\n",
      "min         0.183031\n",
      "max         0.183031\n",
      "FU          0.170666\n",
      "DEC         0.165440\n",
      "Latency     0.145600\n",
      "FU.1        0.006865\n",
      "Name: Slices, dtype: float64\n",
      "\n"
     ]
    }
   ],
   "source": [
    "for i in benchmarks:\n",
    "    correlation_with_slices = data_v4[i].corr()['Slices'].sort_values(ascending=False)\n",
    "    print(f'[{i}]')\n",
    "    print(correlation_with_slices[correlation_with_slices > 0])\n",
    "    print()"
   ]
  },
  {
   "cell_type": "code",
   "execution_count": 93,
   "metadata": {},
   "outputs": [],
   "source": [
    "# data for machine learning\n",
    "training_set_v4 = {}\n",
    "attributes = ['Slices', 'AREA', 'MUX', 'pin_pair', 'net', 'FU', 'REG', 'MISC', 'state', 'DEC']\n",
    "for i in benchmarks:\n",
    "    training_set_v4[i] = data_v4[i][attributes]"
   ]
  },
  {
   "cell_type": "code",
   "execution_count": 94,
   "metadata": {},
   "outputs": [],
   "source": [
    "# data for training and testing\n",
    "from sklearn.preprocessing import StandardScaler\n",
    "X_v4 = {}\n",
    "y_v4 = {}\n",
    "X_v4_scaled = {}\n",
    "scaler = StandardScaler()\n",
    "for i in benchmarks:\n",
    "    X_v4[i] = training_set_v4[i][attributes[1:]]\n",
    "    X_v4_scaled[i] = scaler.fit_transform(X_v4[i])\n",
    "    y_v4[i] = training_set_v4[i][attributes[0]]"
   ]
  },
  {
   "cell_type": "code",
   "execution_count": 95,
   "metadata": {},
   "outputs": [
    {
     "data": {
      "text/plain": [
       "array([[-1.0142756 ,  0.05718519, -0.9868265 , ..., -0.36152052,\n",
       "        -0.17034365,  0.        ],\n",
       "       [-0.86375118, -0.01673104, -0.88346255, ..., -0.65550424,\n",
       "        -0.5020655 ,  0.        ],\n",
       "       [-0.86375118, -0.01673104, -0.88346255, ..., -0.65550424,\n",
       "        -0.5020655 ,  0.        ],\n",
       "       ..., \n",
       "       [-0.90829412,  0.27893389, -0.90433098, ..., -0.0675368 ,\n",
       "        -0.17034365,  0.        ],\n",
       "       [-0.79232887, -0.0352101 , -0.87433261, ..., -0.14103273,\n",
       "        -0.17034365,  0.        ],\n",
       "       [-0.79232887, -0.0352101 , -0.87433261, ..., -0.14103273,\n",
       "        -0.17034365,  0.        ]])"
      ]
     },
     "execution_count": 95,
     "metadata": {},
     "output_type": "execute_result"
    }
   ],
   "source": [
    "X_v4_scaled['adpcm_encoder']"
   ]
  },
  {
   "cell_type": "code",
   "execution_count": 96,
   "metadata": {
    "collapsed": true
   },
   "outputs": [],
   "source": [
    "# feature selection: recursive feature elimination\n",
    "# https://machinelearningmastery.com/feature-selection-in-python-with-scikit-learn/\n",
    "from sklearn.feature_selection import RFE\n",
    "from sklearn.ensemble import RandomForestRegressor\n",
    "model = RandomForestRegressor()\n",
    "rfe = RFE(model, 3)\n",
    "rfe = rfe.fit(X_v4_scaled['adpcm_encoder'], y_v4['adpcm_encoder'])"
   ]
  },
  {
   "cell_type": "code",
   "execution_count": 97,
   "metadata": {},
   "outputs": [
    {
     "data": {
      "text/plain": [
       "array([ True, False,  True,  True, False, False, False, False, False], dtype=bool)"
      ]
     },
     "execution_count": 97,
     "metadata": {},
     "output_type": "execute_result"
    }
   ],
   "source": [
    "rfe.support_"
   ]
  },
  {
   "cell_type": "code",
   "execution_count": 98,
   "metadata": {},
   "outputs": [
    {
     "data": {
      "text/plain": [
       "array([1, 4, 1, 1, 2, 6, 3, 5, 7])"
      ]
     },
     "execution_count": 98,
     "metadata": {},
     "output_type": "execute_result"
    }
   ],
   "source": [
    "rfe.ranking_"
   ]
  },
  {
   "cell_type": "code",
   "execution_count": 99,
   "metadata": {},
   "outputs": [
    {
     "data": {
      "text/plain": [
       "RandomForestRegressor(bootstrap=True, criterion='mse', max_depth=None,\n",
       "           max_features='auto', max_leaf_nodes=None,\n",
       "           min_impurity_split=1e-07, min_samples_leaf=1,\n",
       "           min_samples_split=2, min_weight_fraction_leaf=0.0,\n",
       "           n_estimators=10, n_jobs=1, oob_score=False, random_state=None,\n",
       "           verbose=0, warm_start=False)"
      ]
     },
     "execution_count": 99,
     "metadata": {},
     "output_type": "execute_result"
    }
   ],
   "source": [
    "model.fit(X_v4_scaled['adpcm_encoder'], y_v4['adpcm_encoder'])"
   ]
  },
  {
   "cell_type": "code",
   "execution_count": 100,
   "metadata": {},
   "outputs": [
    {
     "data": {
      "text/plain": [
       "array([ 0.44722617,  0.00482289,  0.13520439,  0.11272506,  0.289089  ,\n",
       "        0.00050145,  0.00902325,  0.00140778,  0.        ])"
      ]
     },
     "execution_count": 100,
     "metadata": {},
     "output_type": "execute_result"
    }
   ],
   "source": [
    "# feature selection: feature importance\n",
    "model.feature_importances_"
   ]
  }
 ],
 "metadata": {
  "kernelspec": {
   "display_name": "Python 3",
   "language": "python",
   "name": "python3"
  },
  "language_info": {
   "codemirror_mode": {
    "name": "ipython",
    "version": 3
   },
   "file_extension": ".py",
   "mimetype": "text/x-python",
   "name": "python",
   "nbconvert_exporter": "python",
   "pygments_lexer": "ipython3",
   "version": "3.6.1"
  }
 },
 "nbformat": 4,
 "nbformat_minor": 2
}
