{
 "cells": [
  {
   "cell_type": "markdown",
   "metadata": {},
   "source": [
    "[Wikipedia](https://en.wikipedia.org/wiki/Loop_nest_optimization)"
   ]
  },
  {
   "cell_type": "code",
   "execution_count": 1,
   "metadata": {
    "collapsed": true
   },
   "outputs": [],
   "source": [
    "import numpy as np"
   ]
  },
  {
   "cell_type": "code",
   "execution_count": 2,
   "metadata": {
    "collapsed": true
   },
   "outputs": [],
   "source": [
    "a_row = 8\n",
    "a_col = 8\n",
    "b_row = a_col\n",
    "b_col = 8\n",
    "c_row = a_row\n",
    "c_col = b_col"
   ]
  },
  {
   "cell_type": "code",
   "execution_count": 3,
   "metadata": {},
   "outputs": [],
   "source": [
    "a = np.random.randint(low=0, high=10, size=(a_row, a_col))\n",
    "b = np.random.randint(low=0, high=10, size=(b_row, b_col))\n",
    "c_0 = np.zeros(shape=(c_row, c_col))"
   ]
  },
  {
   "cell_type": "code",
   "execution_count": null,
   "metadata": {},
   "outputs": [],
   "source": [
    "a"
   ]
  },
  {
   "cell_type": "code",
   "execution_count": null,
   "metadata": {},
   "outputs": [],
   "source": [
    "b"
   ]
  },
  {
   "cell_type": "code",
   "execution_count": null,
   "metadata": {},
   "outputs": [],
   "source": [
    "c_0"
   ]
  },
  {
   "cell_type": "code",
   "execution_count": null,
   "metadata": {},
   "outputs": [],
   "source": [
    "c_ref = np.matmul(a, b)\n",
    "c_ref"
   ]
  },
  {
   "cell_type": "code",
   "execution_count": 5,
   "metadata": {
    "collapsed": true
   },
   "outputs": [],
   "source": [
    "def navie(a, b, c):\n",
    "    for i in range(a_row):\n",
    "        for j in range(b_col):\n",
    "            c[i][j] = 0\n",
    "            for k in range(a_col):\n",
    "                c[i][j] += a[i][k] * b[k][j]\n",
    "    return c"
   ]
  },
  {
   "cell_type": "code",
   "execution_count": null,
   "metadata": {
    "collapsed": true
   },
   "outputs": [],
   "source": [
    "c_navie = navie(a, b, c_0)\n",
    "c_navie - c_ref"
   ]
  },
  {
   "cell_type": "code",
   "execution_count": 6,
   "metadata": {
    "collapsed": true
   },
   "outputs": [],
   "source": [
    "def block_2(a, b, c):\n",
    "    for i in range(0, a_row, 2):\n",
    "        for j in range(0, b_col, 2):\n",
    "            acc00 = acc01 = acc10 = acc11 = 0\n",
    "            for k in range(a_col):\n",
    "                acc00 += b[k][j + 0] * a[i + 0][k]\n",
    "                acc01 += b[k][j + 1] * a[i + 0][k]\n",
    "                acc10 += b[k][j + 0] * a[i + 1][k]\n",
    "                acc11 += b[k][j + 1] * a[i + 1][k]\n",
    "            c[i + 0][j + 0] = acc00\n",
    "            c[i + 0][j + 1] = acc01\n",
    "            c[i + 1][j + 0] = acc10\n",
    "            c[i + 1][j + 1] = acc11\n",
    "    return c"
   ]
  },
  {
   "cell_type": "code",
   "execution_count": null,
   "metadata": {
    "collapsed": true
   },
   "outputs": [],
   "source": [
    "c_block_2 = block_2(a, b, c_0)\n",
    "c_block_2 - c_ref"
   ]
  },
  {
   "cell_type": "code",
   "execution_count": 7,
   "metadata": {
    "collapsed": true
   },
   "outputs": [],
   "source": [
    "def block_ib(a, b, c, ib=2):\n",
    "    for ii in range(0, a_row, ib):\n",
    "        for j in range(0, b_col, 2):\n",
    "            for i in range(ii, ii+ib, 2):\n",
    "                acc00 = acc01 = acc10 = acc11 = 0\n",
    "                for k in range(a_col):\n",
    "                    acc00 += b[k][j + 0] * a[i + 0][k]\n",
    "                    acc01 += b[k][j + 1] * a[i + 0][k]\n",
    "                    acc10 += b[k][j + 0] * a[i + 1][k]\n",
    "                    acc11 += b[k][j + 1] * a[i + 1][k]\n",
    "                c[i + 0][j + 0] = acc00\n",
    "                c[i + 0][j + 1] = acc01\n",
    "                c[i + 1][j + 0] = acc10\n",
    "                c[i + 1][j + 1] = acc11\n",
    "    return c"
   ]
  },
  {
   "cell_type": "code",
   "execution_count": null,
   "metadata": {
    "collapsed": true
   },
   "outputs": [],
   "source": [
    "c_block_ib = block_ib(a, b, c_0, ib=4)\n",
    "c_block_ib - c_ref"
   ]
  },
  {
   "cell_type": "code",
   "execution_count": 8,
   "metadata": {
    "collapsed": true
   },
   "outputs": [],
   "source": [
    "def block_ib_kb(a, b, c, ib=2, kb=2):\n",
    "    for ii in range(0, a_row, ib):\n",
    "        for kk in range(0, a_col, kb):\n",
    "            for j in range(0, b_col, 2):\n",
    "                for i in range(ii, ii+ib, 2):\n",
    "                    if kk == 0:\n",
    "                        acc00 = acc01 = acc10 = acc11 = 0\n",
    "                    else:\n",
    "                        acc00 = c[i + 0][j + 0]\n",
    "                        acc01 = c[i + 0][j + 1]\n",
    "                        acc10 = c[i + 1][j + 0]\n",
    "                        acc11 = c[i + 1][j + 1]\n",
    "                    for k in range(kk, kk+kb):\n",
    "                        acc00 += b[k][j + 0] * a[i + 0][k]\n",
    "                        acc01 += b[k][j + 1] * a[i + 0][k]\n",
    "                        acc10 += b[k][j + 0] * a[i + 1][k]\n",
    "                        acc11 += b[k][j + 1] * a[i + 1][k]\n",
    "                    c[i + 0][j + 0] = acc00\n",
    "                    c[i + 0][j + 1] = acc01\n",
    "                    c[i + 1][j + 0] = acc10\n",
    "                    c[i + 1][j + 1] = acc11\n",
    "    return c"
   ]
  },
  {
   "cell_type": "code",
   "execution_count": null,
   "metadata": {
    "collapsed": true
   },
   "outputs": [],
   "source": [
    "c_block_ib_kb = block_ib_kb(a, b, c_0, ib=4, kb=4)\n",
    "c_block_ib_kb - c_ref"
   ]
  },
  {
   "cell_type": "code",
   "execution_count": 14,
   "metadata": {},
   "outputs": [
    {
     "name": "stdout",
     "output_type": "stream",
     "text": [
      "The slowest run took 10.90 times longer than the fastest. This could mean that an intermediate result is being cached.\n",
      "100000 loops, best of 3: 1.94 µs per loop\n"
     ]
    }
   ],
   "source": [
    "%timeit np.matmul(a, b)"
   ]
  },
  {
   "cell_type": "code",
   "execution_count": 9,
   "metadata": {},
   "outputs": [
    {
     "name": "stdout",
     "output_type": "stream",
     "text": [
      "1000 loops, best of 3: 452 µs per loop\n"
     ]
    }
   ],
   "source": [
    "%timeit navie(a, b, c_0)"
   ]
  },
  {
   "cell_type": "code",
   "execution_count": 10,
   "metadata": {},
   "outputs": [
    {
     "name": "stdout",
     "output_type": "stream",
     "text": [
      "1000 loops, best of 3: 308 µs per loop\n"
     ]
    }
   ],
   "source": [
    "%timeit block_2(a, b, c_0)"
   ]
  },
  {
   "cell_type": "code",
   "execution_count": 11,
   "metadata": {},
   "outputs": [
    {
     "name": "stdout",
     "output_type": "stream",
     "text": [
      "1000 loops, best of 3: 311 µs per loop\n"
     ]
    }
   ],
   "source": [
    "%timeit block_ib(a, b, c_0, ib=4)"
   ]
  },
  {
   "cell_type": "code",
   "execution_count": 12,
   "metadata": {},
   "outputs": [
    {
     "name": "stdout",
     "output_type": "stream",
     "text": [
      "1000 loops, best of 3: 368 µs per loop\n"
     ]
    }
   ],
   "source": [
    "%timeit block_ib_kb(a, b, c_0, ib=4, kb=4)"
   ]
  },
  {
   "cell_type": "code",
   "execution_count": null,
   "metadata": {
    "collapsed": true
   },
   "outputs": [],
   "source": []
  }
 ],
 "metadata": {
  "kernelspec": {
   "display_name": "Python 3",
   "language": "python",
   "name": "python3"
  },
  "language_info": {
   "codemirror_mode": {
    "name": "ipython",
    "version": 3
   },
   "file_extension": ".py",
   "mimetype": "text/x-python",
   "name": "python",
   "nbconvert_exporter": "python",
   "pygments_lexer": "ipython3",
   "version": "3.6.1"
  }
 },
 "nbformat": 4,
 "nbformat_minor": 2
}
